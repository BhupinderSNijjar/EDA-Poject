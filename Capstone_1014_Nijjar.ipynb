{
 "cells": [
  {
   "cell_type": "markdown",
   "id": "f6b8db69",
   "metadata": {},
   "source": [
    "<p align=\"center\"><img src=\"https://github.com/insaid2018/Term-1/blob/master/Images/INSAID_Full%20Logo.png?raw=true\" width=\"260\" height=\"110\" /></p>"
   ]
  },
  {
   "cell_type": "markdown",
   "id": "357ce954",
   "metadata": {},
   "source": [
    "# CAPSTONE PROJECT GP 1014 : INSAID TELECOM"
   ]
  },
  {
   "cell_type": "markdown",
   "id": "217f13a5",
   "metadata": {},
   "source": [
    "---\n",
    "# **Table of Contents**\n",
    "---\n",
    "\n",
    "**1.** [**Introduction**](#Section1)<br>\n",
    "**2.** [**Problem Statement**](#Section2)<br>\n",
    "**3.** [**Installing & Importing Libraries**](#Section3)<br>\n",
    "-  3.1 [**Installing Libraries**](#Section31)<br>\n",
    "-  3.2 [**Upgrading Libraries**](#Section32)<br>\n",
    "-  3.3 [**Importing Libraries**](#Section33)<br>\n",
    "**4.** [**Data Acquisition & Description**](#Section4)<br>\n",
    "\n",
    "### **Working on Individual Files**\n",
    "\n",
    "- **5A.** [**Data Pre-Profiling (\"events\")**](#Section5)<br>\n",
    "- **6A.** [**Data Pre-Processing (\"events\")**](#Section6)<br>\n",
    "- **7A.** [**Post- Profiling (events_no_dup)**](#Section7)<br>\n",
    "- **5B.** [**Data Pre-Profiling (\"gender\")**](#Section8)<br>\n",
    "- **6B.** [**Data Pre-Processing (\"gender\")**](#Section9)<br>\n",
    "- **7B.** [**Post- Profiling (gender_s)**](#Section10)<br>\n",
    "- **5C** [**Data Pre-Profiling (\"phone\")**](#Section11)<br>\n",
    "- **6C** [**Data Pre-Processing (\"phone\")**](#Section12)<br>\n",
    "- **7C** [**Post- Profiling (phone)**](#Section13)<br>\n",
    "\n",
    "**5** [**Merging & Pre-Profiling**](#Section14)<br>\n",
    "**6** [**Pre-Processing**](#Section15)<br>\n",
    "**7** [**Post-Profiling**](#Section16)<br>\n",
    "\n",
    "**8** [**Exploratory Data Analysis**](#Section17)<br>\n",
    "\n",
    "**8A** [**Distribution of Users (device_id) Across Target States**](#Section18)<br>\n",
    "**8B** [**Distribution of Users across Phone Brands(Consider only 10 Most used Phone Brands).**](#Section19)<br>\n",
    "**8C** [**Distribution of Users across Gender**](#Section20)<br>\n",
    "**8D** [**Distribution of Users across Age Segments**](#Section21)<br>\n",
    "**8E** [**Distribution of Phone Brands(Consider only the 10 Most used Phone Brands) for each Age Segment, State, and Gender**](#Section22)<br>\n",
    "**8F** [**Distribution of Gender for each State, Age Segment and Phone Brand(Consider only the 10 Most used Phone Brands)**](#Section23)<br>\n",
    "**8G** [**Distribution of Age Segments for each State, Gender and Phone Brand(Consider only the 10 Most used Phone Brands)**](#Section24)<br>\n",
    "**8H** [**Hourly distribution of Phone Calls**](#Section25)<br>\n",
    "**9** [**Summarization**](#Section26)<br>\n",
    "**10** [**Conclusion**](#Section27)</br>\n",
    "**11** [**Insights**](#Section28)</br>\n",
    "\n"
   ]
  },
  {
   "cell_type": "markdown",
   "id": "ca9d910f",
   "metadata": {},
   "source": [
    "<a name = Section1></a>\n",
    "# **1. Introduction**\n",
    "\n",
    "### Insaid Telecom is major Telecom service provider based out of Gurugram. It needed some data driven \n",
    "\n",
    "### insights for its product design and marketing team that could increase its customer base and revenues. \n",
    "\n",
    "### Hence the insights provided must act as an enabler for its business decision making processes.\n",
    "\n",
    "### as it looks forward to expand its customer base in the states of West Bengal, Karnataka, Kerala, Gujarat, \n",
    "\n",
    "### Bihar & Punjab.\n",
    "\n",
    "###  The Telcom company has been able to provide a data set comprising of three CSV files for the Capstone_1014 group to draw inferences from.\n",
    "\n",
    "### The event.csv is the master file while the gender.csv & mobile.csv contain demographic and mobile \n",
    "\n",
    "### specific data respectively. \n",
    "\n",
    "### The three data sets are linked together by customer specific device_ids, which the company has\n",
    "\n",
    "### anonymised deeming it to be a propriety information  order to protect the privacy rights of its customers."
   ]
  },
  {
   "cell_type": "markdown",
   "id": "41095946",
   "metadata": {},
   "source": [
    "<a name = Section2></a>\n",
    "# **2. Problem Statement**\n",
    "\n",
    "\n",
    "### INSAID Telecom:  West Bengal, Karnataka, Kerala, Gujarat, Bihar & Punjab\n",
    "- ** Problem Statement:**\n",
    "\n",
    "  - In the past few years, the Telecom space has seen intense competion. The customer churn is observed along with a rise in customer expectation and the demand for better service at a lesser tarrif.\n",
    "  \n",
    "   -  Most value added services are now being extended to the customers via the medium of the mobile.\n",
    "\n",
    "  - Customers buying a new mobile phone and telecom service package looks for assurity of their money to be worthy.\n",
    "\n",
    "  - They are increasingly demanding more capabilities at an affordable rate from their mobiles.\n",
    "\n",
    "  - There is a need for a method to study predict the customer behaviour that determines the mobile usage pattern and the to effectively determine the need for the type of service extended.\n",
    "\n",
    "  - Even though Insaid Teleom uses internal methodologies based upon managerial instinct to predict the user demand and product service rollout, this the design of the service and their prediction method may not be the best.\n",
    "\n",
    "  - Besides, the product offering, the marketing effort may not be contributing to the revenue generation effort.\n",
    "\n",
    "  - It is important to know the impact of these demographic influences to tailor a suitable product.\n",
    "  \n",
    "- <p align=\"center\"><img src=\"/Users/bsnijjar/Downloads/INSAID-removebg-preview-2.png\"></p>\n",
    "\n",
    "- Team 1014 is Undertaking this Task In Respect of Six States, West Bengal, Karnataka, Kerala, Gujarat, Punjab, Bihar."
   ]
  },
  {
   "cell_type": "markdown",
   "id": "b5d11f57",
   "metadata": {},
   "source": [
    "<a name = Section3></a>\n",
    "# **3. Installing & Importing Libraries**\n"
   ]
  },
  {
   "cell_type": "code",
   "execution_count": 1,
   "id": "9bb4da94",
   "metadata": {},
   "outputs": [],
   "source": [
    "\n",
    "### **3.1 Installing Libraries**"
   ]
  },
  {
   "cell_type": "code",
   "execution_count": 2,
   "id": "c90da2c8",
   "metadata": {
    "scrolled": true
   },
   "outputs": [],
   "source": [
    "!pip install -q datascience                                         # Package that is required by pandas profiling\n",
    "!pip install -q pandas-profiling                                    # Library to generate basic statistics about data\n",
    "!pip install -q --upgrade yellowbrick\n",
    "!pip install -q --upgrade matplotlib"
   ]
  },
  {
   "cell_type": "code",
   "execution_count": 3,
   "id": "c6ba94f6",
   "metadata": {},
   "outputs": [],
   "source": [
    "import numpy as np   \n",
    "import pandas as pd                                                 # Importing for panel data analysis\n",
    "pd.set_option('display.max_columns', None)                          # Unfolding hidden features if the cardinality is high\n",
    "pd.set_option('display.max_colwidth', None)                         # Unfolding the max feature width for better clearity\n",
    "pd.set_option('display.max_rows', None)                             # Unfolding hidden data points if the cardinality is high\n",
    "pd.set_option('mode.chained_assignment', None)                      # Removing restriction over chained assignments operations\n",
    "pd.set_option('display.float_format', lambda x: '%.2f' % x)         # To suppress scientific notation over exponential values\n",
    "#-------------------------------------------------------------------------------------------------------------------------------\n",
    "from collections import Counter                                     # For counting hashable objects\n",
    "#-------------------------------------------------------------------------------------------------------------------------------\n",
    "import matplotlib.pyplot as plt                                     # Importing pyplot interface using matplotlib\n",
    "import plotly.graph_objs as go                                      # For Plotly interfaced graphs\n",
    "import seaborn as sns                                               # Importin seaborm library for interactive visualization\n",
    "%matplotlib inline\n",
    "#-------------------------------------------------------------------------------------------------------------------------------\n",
    "import warnings                                                     # Importing warning to disable runtime warnings\n",
    "warnings.filterwarnings(\"ignore\")   # Warnings will appear only once\n",
    "import datetime\n"
   ]
  },
  {
   "cell_type": "markdown",
   "id": "c84ed2c5",
   "metadata": {},
   "source": [
    "<a name = Section4></a>\n",
    "## **4. Data Acquisition & Description**\n",
    "---\n",
    "\n",
    "\n",
    "- The following features are present in the three data sets:\n",
    "\n",
    "|Id|Feature|Description|\n",
    "|:--|:--|:--|\n",
    "|01| event_id     | Unique Instance Identifier| \n",
    "|02| device_id    | Unique to each Customer|  \n",
    "|03| timestamp    | The instance at which a device_id is used for making a call| \n",
    "|04| longitude    | Geographical Variable to determine location of customer|   \n",
    "|05| latitude     | Geographical Geographical Variable to determine location of customer|\n",
    "|06| city         | Location of the recorded event_id identified by City|\n",
    "|07| state        | Location of the recorded event_id identified by State|\n",
    "|08| gender       | Related to the record of device_id mapped while  applying for a connection |\n",
    "|09| age          | Age of the customer identified by the devic_id|\n",
    "|10| age group    | Derived parameter grouping and linking gender and age features|\n",
    "|11| phone_brand  | The Brand of the Phone Manufacturer|\n",
    "|12| device_model | The particular model of the Brand|\n"
   ]
  },
  {
   "cell_type": "code",
   "execution_count": 4,
   "id": "8490c46c",
   "metadata": {},
   "outputs": [],
   "source": [
    "#import data sets and store them as events, gender & mobile\n",
    "events = pd.read_csv('/Volumes/Working_Volume/Insaid Aug 2022/events_data.csv')\n",
    "gender = pd.read_csv('/Volumes/Working_Volume/Insaid Aug 2022/gender_age_train.csv')\n",
    "phone = pd.read_csv('/Volumes/Working_Volume/Insaid Aug 2022/phone_brand_device_model.csv')\n",
    "\n"
   ]
  },
  {
   "cell_type": "markdown",
   "id": "d73f1e58",
   "metadata": {},
   "source": [
    "<a name = Section5></a>\n",
    "## 5A. Data Pre-Profiling (\"events\")"
   ]
  },
  {
   "cell_type": "code",
   "execution_count": 5,
   "id": "ee4098d4",
   "metadata": {
    "scrolled": true
   },
   "outputs": [
    {
     "data": {
      "text/html": [
       "<div>\n",
       "<style scoped>\n",
       "    .dataframe tbody tr th:only-of-type {\n",
       "        vertical-align: middle;\n",
       "    }\n",
       "\n",
       "    .dataframe tbody tr th {\n",
       "        vertical-align: top;\n",
       "    }\n",
       "\n",
       "    .dataframe thead th {\n",
       "        text-align: right;\n",
       "    }\n",
       "</style>\n",
       "<table border=\"1\" class=\"dataframe\">\n",
       "  <thead>\n",
       "    <tr style=\"text-align: right;\">\n",
       "      <th></th>\n",
       "      <th>event_id</th>\n",
       "      <th>device_id</th>\n",
       "      <th>timestamp</th>\n",
       "      <th>longitude</th>\n",
       "      <th>latitude</th>\n",
       "      <th>city</th>\n",
       "      <th>state</th>\n",
       "    </tr>\n",
       "  </thead>\n",
       "  <tbody>\n",
       "    <tr>\n",
       "      <th>0</th>\n",
       "      <td>2765368</td>\n",
       "      <td>2973347786994914304.00</td>\n",
       "      <td>2016-05-07 22:52:05</td>\n",
       "      <td>77.23</td>\n",
       "      <td>28.73</td>\n",
       "      <td>Delhi</td>\n",
       "      <td>Delhi</td>\n",
       "    </tr>\n",
       "    <tr>\n",
       "      <th>1</th>\n",
       "      <td>2955066</td>\n",
       "      <td>4734221357723754496.00</td>\n",
       "      <td>2016-05-01 20:44:16</td>\n",
       "      <td>88.39</td>\n",
       "      <td>22.66</td>\n",
       "      <td>Calcutta</td>\n",
       "      <td>WestBengal</td>\n",
       "    </tr>\n",
       "    <tr>\n",
       "      <th>2</th>\n",
       "      <td>605968</td>\n",
       "      <td>-3264499652692492800.00</td>\n",
       "      <td>2016-05-02 14:23:04</td>\n",
       "      <td>77.26</td>\n",
       "      <td>28.76</td>\n",
       "      <td>Delhi</td>\n",
       "      <td>Delhi</td>\n",
       "    </tr>\n",
       "    <tr>\n",
       "      <th>3</th>\n",
       "      <td>448114</td>\n",
       "      <td>5731369272434022400.00</td>\n",
       "      <td>2016-05-03 13:21:16</td>\n",
       "      <td>80.34</td>\n",
       "      <td>13.15</td>\n",
       "      <td>Chennai</td>\n",
       "      <td>TamilNadu</td>\n",
       "    </tr>\n",
       "    <tr>\n",
       "      <th>4</th>\n",
       "      <td>665740</td>\n",
       "      <td>338888002570799936.00</td>\n",
       "      <td>2016-05-06 03:51:05</td>\n",
       "      <td>86.00</td>\n",
       "      <td>23.84</td>\n",
       "      <td>Bokaro</td>\n",
       "      <td>Jharkhand</td>\n",
       "    </tr>\n",
       "  </tbody>\n",
       "</table>\n",
       "</div>"
      ],
      "text/plain": [
       "   event_id               device_id            timestamp  longitude  latitude  \\\n",
       "0   2765368  2973347786994914304.00  2016-05-07 22:52:05      77.23     28.73   \n",
       "1   2955066  4734221357723754496.00  2016-05-01 20:44:16      88.39     22.66   \n",
       "2    605968 -3264499652692492800.00  2016-05-02 14:23:04      77.26     28.76   \n",
       "3    448114  5731369272434022400.00  2016-05-03 13:21:16      80.34     13.15   \n",
       "4    665740   338888002570799936.00  2016-05-06 03:51:05      86.00     23.84   \n",
       "\n",
       "       city       state  \n",
       "0     Delhi       Delhi  \n",
       "1  Calcutta  WestBengal  \n",
       "2     Delhi       Delhi  \n",
       "3   Chennai   TamilNadu  \n",
       "4    Bokaro   Jharkhand  "
      ]
     },
     "execution_count": 5,
     "metadata": {},
     "output_type": "execute_result"
    }
   ],
   "source": [
    "# show first 5 records of events data set.\n",
    "events.head()\n"
   ]
  },
  {
   "cell_type": "markdown",
   "id": "3e52fd64",
   "metadata": {},
   "source": [
    "### The Data set has 7 columns. The customers are identified by \"device_ids\" which are random numbers(dtype float). \n",
    "\n",
    "### Timestamp data is well defined and location od customer is fixed by latitude and longitude columns from which city and state data is mapped. "
   ]
  },
  {
   "cell_type": "code",
   "execution_count": 6,
   "id": "44ade55a",
   "metadata": {
    "scrolled": true
   },
   "outputs": [
    {
     "name": "stdout",
     "output_type": "stream",
     "text": [
      "<class 'pandas.core.frame.DataFrame'>\n",
      "RangeIndex: 3252950 entries, 0 to 3252949\n",
      "Data columns (total 7 columns):\n",
      " #   Column     Non-Null Count    Dtype  \n",
      "---  ------     --------------    -----  \n",
      " 0   event_id   3252950 non-null  int64  \n",
      " 1   device_id  3252497 non-null  float64\n",
      " 2   timestamp  3252950 non-null  object \n",
      " 3   longitude  3252527 non-null  float64\n",
      " 4   latitude   3252527 non-null  float64\n",
      " 5   city       3252950 non-null  object \n",
      " 6   state      3252573 non-null  object \n",
      "dtypes: float64(3), int64(1), object(3)\n",
      "memory usage: 173.7+ MB\n"
     ]
    }
   ],
   "source": [
    "#Checking Information about the null counts and shape of the data.\n",
    "events.info(show_counts=True)\n"
   ]
  },
  {
   "cell_type": "markdown",
   "id": "4f40733b",
   "metadata": {},
   "source": [
    "### There are a total of 3252950 rows of data present. Columns  dtype : 3 float , 1 int and 3 Object\n",
    "\n",
    "### There are 3252497 device_ids (Unique customers). \n",
    "\n",
    "### Of the 3253950 event_ids some do not have corresponding device_ids.\n",
    "\n",
    "### Of the demographic data \n",
    "####  - city information is complete.\n",
    "####  - latitude and longitude geographical values are matching but are missing from some rows.\n",
    "####  - state values are missing from some rows."
   ]
  },
  {
   "cell_type": "markdown",
   "id": "6189d84f",
   "metadata": {},
   "source": [
    "<a name = Section6></a>\n",
    "## **6A. Data Pre-Processing (\"events\")**"
   ]
  },
  {
   "cell_type": "code",
   "execution_count": 7,
   "id": "4a66fdc8",
   "metadata": {},
   "outputs": [],
   "source": [
    "#Removing event_ids with no corresponding device_ids\n",
    "events = events[events['device_id'].notna()]"
   ]
  },
  {
   "cell_type": "code",
   "execution_count": 8,
   "id": "5b964c63",
   "metadata": {},
   "outputs": [],
   "source": [
    "#events data: converting dtype of timestamps & device_ids in events data \n",
    "events['timestamp']= pd.to_datetime(events[\"timestamp\"])\n",
    "events['device_id'] = events['device_id'].astype(int)"
   ]
  },
  {
   "cell_type": "code",
   "execution_count": 9,
   "id": "5773cabe",
   "metadata": {},
   "outputs": [],
   "source": [
    "# events data:imputing missing state values\n",
    "dict1 = dict(zip(events['city'],events['state']))\n",
    "events.loc[events['state'].isnull(), 'state'] = events['city'].map(dict1)"
   ]
  },
  {
   "cell_type": "code",
   "execution_count": 10,
   "id": "a038399a",
   "metadata": {},
   "outputs": [],
   "source": [
    "#events data: imputing missing latitude values\n",
    "dict2 = dict(zip(events['city'],events['latitude']))\n",
    "events.loc[events['latitude'].isnull(), 'latitude'] = events['city'].map(dict2)"
   ]
  },
  {
   "cell_type": "code",
   "execution_count": 11,
   "id": "c36b6729",
   "metadata": {},
   "outputs": [
    {
     "name": "stdout",
     "output_type": "stream",
     "text": [
      "<class 'pandas.core.frame.DataFrame'>\n",
      "Int64Index: 3252497 entries, 0 to 3252949\n",
      "Data columns (total 7 columns):\n",
      " #   Column     Non-Null Count    Dtype         \n",
      "---  ------     --------------    -----         \n",
      " 0   event_id   3252497 non-null  int64         \n",
      " 1   device_id  3252497 non-null  int64         \n",
      " 2   timestamp  3252497 non-null  datetime64[ns]\n",
      " 3   longitude  3252497 non-null  float64       \n",
      " 4   latitude   3252497 non-null  float64       \n",
      " 5   city       3252497 non-null  object        \n",
      " 6   state      3252497 non-null  object        \n",
      "dtypes: datetime64[ns](1), float64(2), int64(2), object(2)\n",
      "memory usage: 327.5+ MB\n"
     ]
    }
   ],
   "source": [
    "#events data: imputing missing latitude values resulting in complete data without missing values\n",
    "dict3 = dict(zip(events['city'],events['longitude']))\n",
    "events.loc[events['longitude'].isnull(), 'longitude'] = events['city'].map(dict3)\n",
    "events.info(null_counts=True)"
   ]
  },
  {
   "cell_type": "markdown",
   "id": "89338c6b",
   "metadata": {},
   "source": [
    "## Having removed null values, removal of duplicate values is deemed necessary to focus upon information about individual customers identified by device_ids"
   ]
  },
  {
   "cell_type": "code",
   "execution_count": 12,
   "id": "de97df0e",
   "metadata": {
    "scrolled": false
   },
   "outputs": [
    {
     "name": "stdout",
     "output_type": "stream",
     "text": [
      "<class 'pandas.core.frame.DataFrame'>\n",
      "RangeIndex: 60865 entries, 0 to 60864\n",
      "Data columns (total 7 columns):\n",
      " #   Column     Non-Null Count  Dtype         \n",
      "---  ------     --------------  -----         \n",
      " 0   event_id   60865 non-null  int64         \n",
      " 1   device_id  60865 non-null  int64         \n",
      " 2   timestamp  60865 non-null  datetime64[ns]\n",
      " 3   longitude  60865 non-null  float64       \n",
      " 4   latitude   60865 non-null  float64       \n",
      " 5   city       60865 non-null  object        \n",
      " 6   state      60865 non-null  object        \n",
      "dtypes: datetime64[ns](1), float64(2), int64(2), object(2)\n",
      "memory usage: 3.3+ MB\n"
     ]
    }
   ],
   "source": [
    "#events data: Removing Duplicate Values and storing in \"events_no_dup\"\n",
    "\n",
    "events_no_dup = events.drop_duplicates(subset=['device_id'],keep='first', inplace=False, ignore_index=True)\n",
    "events_no_dup.info()\n"
   ]
  },
  {
   "cell_type": "markdown",
   "id": "34b444ac",
   "metadata": {},
   "source": [
    "<a name = Section7></a>\n",
    "## **7A Post- Profiling (events_no_dup)**"
   ]
  },
  {
   "cell_type": "code",
   "execution_count": 13,
   "id": "f89b92c7",
   "metadata": {
    "scrolled": false
   },
   "outputs": [
    {
     "data": {
      "text/html": [
       "<div>\n",
       "<style scoped>\n",
       "    .dataframe tbody tr th:only-of-type {\n",
       "        vertical-align: middle;\n",
       "    }\n",
       "\n",
       "    .dataframe tbody tr th {\n",
       "        vertical-align: top;\n",
       "    }\n",
       "\n",
       "    .dataframe thead th {\n",
       "        text-align: right;\n",
       "    }\n",
       "</style>\n",
       "<table border=\"1\" class=\"dataframe\">\n",
       "  <thead>\n",
       "    <tr style=\"text-align: right;\">\n",
       "      <th></th>\n",
       "      <th>event_id</th>\n",
       "      <th>device_id</th>\n",
       "      <th>timestamp</th>\n",
       "      <th>longitude</th>\n",
       "      <th>latitude</th>\n",
       "      <th>city</th>\n",
       "      <th>state</th>\n",
       "    </tr>\n",
       "  </thead>\n",
       "  <tbody>\n",
       "    <tr>\n",
       "      <th>0</th>\n",
       "      <td>2765368</td>\n",
       "      <td>2973347786994914304</td>\n",
       "      <td>2016-05-07 22:52:05</td>\n",
       "      <td>77.23</td>\n",
       "      <td>28.73</td>\n",
       "      <td>Delhi</td>\n",
       "      <td>Delhi</td>\n",
       "    </tr>\n",
       "    <tr>\n",
       "      <th>1</th>\n",
       "      <td>2955066</td>\n",
       "      <td>4734221357723754496</td>\n",
       "      <td>2016-05-01 20:44:16</td>\n",
       "      <td>88.39</td>\n",
       "      <td>22.66</td>\n",
       "      <td>Calcutta</td>\n",
       "      <td>WestBengal</td>\n",
       "    </tr>\n",
       "    <tr>\n",
       "      <th>2</th>\n",
       "      <td>605968</td>\n",
       "      <td>-3264499652692492800</td>\n",
       "      <td>2016-05-02 14:23:04</td>\n",
       "      <td>77.26</td>\n",
       "      <td>28.76</td>\n",
       "      <td>Delhi</td>\n",
       "      <td>Delhi</td>\n",
       "    </tr>\n",
       "    <tr>\n",
       "      <th>3</th>\n",
       "      <td>448114</td>\n",
       "      <td>5731369272434022400</td>\n",
       "      <td>2016-05-03 13:21:16</td>\n",
       "      <td>80.34</td>\n",
       "      <td>13.15</td>\n",
       "      <td>Chennai</td>\n",
       "      <td>TamilNadu</td>\n",
       "    </tr>\n",
       "    <tr>\n",
       "      <th>4</th>\n",
       "      <td>665740</td>\n",
       "      <td>338888002570799936</td>\n",
       "      <td>2016-05-06 03:51:05</td>\n",
       "      <td>86.00</td>\n",
       "      <td>23.84</td>\n",
       "      <td>Bokaro</td>\n",
       "      <td>Jharkhand</td>\n",
       "    </tr>\n",
       "  </tbody>\n",
       "</table>\n",
       "</div>"
      ],
      "text/plain": [
       "   event_id            device_id           timestamp  longitude  latitude  \\\n",
       "0   2765368  2973347786994914304 2016-05-07 22:52:05      77.23     28.73   \n",
       "1   2955066  4734221357723754496 2016-05-01 20:44:16      88.39     22.66   \n",
       "2    605968 -3264499652692492800 2016-05-02 14:23:04      77.26     28.76   \n",
       "3    448114  5731369272434022400 2016-05-03 13:21:16      80.34     13.15   \n",
       "4    665740   338888002570799936 2016-05-06 03:51:05      86.00     23.84   \n",
       "\n",
       "       city       state  \n",
       "0     Delhi       Delhi  \n",
       "1  Calcutta  WestBengal  \n",
       "2     Delhi       Delhi  \n",
       "3   Chennai   TamilNadu  \n",
       "4    Bokaro   Jharkhand  "
      ]
     },
     "execution_count": 13,
     "metadata": {},
     "output_type": "execute_result"
    }
   ],
   "source": [
    "events_no_dup.head()"
   ]
  },
  {
   "cell_type": "code",
   "execution_count": 14,
   "id": "2c551111",
   "metadata": {},
   "outputs": [
    {
     "data": {
      "text/plain": [
       "event_id     60865\n",
       "device_id    60865\n",
       "timestamp    57493\n",
       "longitude    60091\n",
       "latitude     60174\n",
       "city           933\n",
       "state           32\n",
       "dtype: int64"
      ]
     },
     "execution_count": 14,
     "metadata": {},
     "output_type": "execute_result"
    }
   ],
   "source": [
    "events_no_dup.nunique()"
   ]
  },
  {
   "cell_type": "markdown",
   "id": "85914e74",
   "metadata": {},
   "source": [
    "### There are 60865 unique customers with overlapping timestamps belonging to 32 states and 933 cities some of which share same longitude but are dispersed defined by latitude (North or South)."
   ]
  },
  {
   "cell_type": "markdown",
   "id": "c1fee2f8",
   "metadata": {},
   "source": [
    "## ___________________"
   ]
  },
  {
   "cell_type": "markdown",
   "id": "441961e9",
   "metadata": {},
   "source": [
    "<a name = Section8></a>\n",
    "## **5B. Data Pre-Profiling (\"gender\")**"
   ]
  },
  {
   "cell_type": "code",
   "execution_count": 15,
   "id": "aad3063e",
   "metadata": {
    "scrolled": true
   },
   "outputs": [
    {
     "name": "stdout",
     "output_type": "stream",
     "text": [
      "<class 'pandas.core.frame.DataFrame'>\n",
      "RangeIndex: 74645 entries, 0 to 74644\n",
      "Data columns (total 4 columns):\n",
      " #   Column     Non-Null Count  Dtype \n",
      "---  ------     --------------  ----- \n",
      " 0   device_id  74645 non-null  int64 \n",
      " 1   gender     74645 non-null  object\n",
      " 2   age        74645 non-null  int64 \n",
      " 3   group      74645 non-null  object\n",
      "dtypes: int64(2), object(2)\n",
      "memory usage: 2.3+ MB\n"
     ]
    }
   ],
   "source": [
    "# gender\n",
    "gender.info()\n",
    "# show first 5 records"
   ]
  },
  {
   "cell_type": "code",
   "execution_count": 16,
   "id": "18221cd1",
   "metadata": {},
   "outputs": [
    {
     "data": {
      "text/html": [
       "<div>\n",
       "<style scoped>\n",
       "    .dataframe tbody tr th:only-of-type {\n",
       "        vertical-align: middle;\n",
       "    }\n",
       "\n",
       "    .dataframe tbody tr th {\n",
       "        vertical-align: top;\n",
       "    }\n",
       "\n",
       "    .dataframe thead th {\n",
       "        text-align: right;\n",
       "    }\n",
       "</style>\n",
       "<table border=\"1\" class=\"dataframe\">\n",
       "  <thead>\n",
       "    <tr style=\"text-align: right;\">\n",
       "      <th></th>\n",
       "      <th>device_id</th>\n",
       "      <th>gender</th>\n",
       "      <th>age</th>\n",
       "      <th>group</th>\n",
       "    </tr>\n",
       "  </thead>\n",
       "  <tbody>\n",
       "    <tr>\n",
       "      <th>0</th>\n",
       "      <td>-8076087639492063270</td>\n",
       "      <td>M</td>\n",
       "      <td>35</td>\n",
       "      <td>M32-38</td>\n",
       "    </tr>\n",
       "    <tr>\n",
       "      <th>1</th>\n",
       "      <td>-2897161552818060146</td>\n",
       "      <td>M</td>\n",
       "      <td>35</td>\n",
       "      <td>M32-38</td>\n",
       "    </tr>\n",
       "    <tr>\n",
       "      <th>2</th>\n",
       "      <td>-8260683887967679142</td>\n",
       "      <td>M</td>\n",
       "      <td>35</td>\n",
       "      <td>M32-38</td>\n",
       "    </tr>\n",
       "    <tr>\n",
       "      <th>3</th>\n",
       "      <td>-4938849341048082022</td>\n",
       "      <td>M</td>\n",
       "      <td>30</td>\n",
       "      <td>M29-31</td>\n",
       "    </tr>\n",
       "    <tr>\n",
       "      <th>4</th>\n",
       "      <td>245133531816851882</td>\n",
       "      <td>M</td>\n",
       "      <td>30</td>\n",
       "      <td>M29-31</td>\n",
       "    </tr>\n",
       "  </tbody>\n",
       "</table>\n",
       "</div>"
      ],
      "text/plain": [
       "             device_id gender  age   group\n",
       "0 -8076087639492063270      M   35  M32-38\n",
       "1 -2897161552818060146      M   35  M32-38\n",
       "2 -8260683887967679142      M   35  M32-38\n",
       "3 -4938849341048082022      M   30  M29-31\n",
       "4   245133531816851882      M   30  M29-31"
      ]
     },
     "execution_count": 16,
     "metadata": {},
     "output_type": "execute_result"
    }
   ],
   "source": [
    "gender.head()"
   ]
  },
  {
   "cell_type": "code",
   "execution_count": 17,
   "id": "2bab907f",
   "metadata": {
    "scrolled": true
   },
   "outputs": [
    {
     "data": {
      "text/html": [
       "<div>\n",
       "<style scoped>\n",
       "    .dataframe tbody tr th:only-of-type {\n",
       "        vertical-align: middle;\n",
       "    }\n",
       "\n",
       "    .dataframe tbody tr th {\n",
       "        vertical-align: top;\n",
       "    }\n",
       "\n",
       "    .dataframe thead th {\n",
       "        text-align: right;\n",
       "    }\n",
       "</style>\n",
       "<table border=\"1\" class=\"dataframe\">\n",
       "  <thead>\n",
       "    <tr style=\"text-align: right;\">\n",
       "      <th></th>\n",
       "      <th>device_id</th>\n",
       "      <th>age</th>\n",
       "    </tr>\n",
       "  </thead>\n",
       "  <tbody>\n",
       "    <tr>\n",
       "      <th>count</th>\n",
       "      <td>74645.00</td>\n",
       "      <td>74645.00</td>\n",
       "    </tr>\n",
       "    <tr>\n",
       "      <th>mean</th>\n",
       "      <td>-749135388419837.00</td>\n",
       "      <td>31.41</td>\n",
       "    </tr>\n",
       "    <tr>\n",
       "      <th>std</th>\n",
       "      <td>5327149733911456768.00</td>\n",
       "      <td>9.87</td>\n",
       "    </tr>\n",
       "    <tr>\n",
       "      <th>min</th>\n",
       "      <td>-9223067244542181376.00</td>\n",
       "      <td>1.00</td>\n",
       "    </tr>\n",
       "    <tr>\n",
       "      <th>25%</th>\n",
       "      <td>-4617366812584264704.00</td>\n",
       "      <td>25.00</td>\n",
       "    </tr>\n",
       "    <tr>\n",
       "      <th>50%</th>\n",
       "      <td>-18413620249632024.00</td>\n",
       "      <td>29.00</td>\n",
       "    </tr>\n",
       "    <tr>\n",
       "      <th>75%</th>\n",
       "      <td>4636655899093149696.00</td>\n",
       "      <td>36.00</td>\n",
       "    </tr>\n",
       "    <tr>\n",
       "      <th>max</th>\n",
       "      <td>9222849349208140800.00</td>\n",
       "      <td>96.00</td>\n",
       "    </tr>\n",
       "  </tbody>\n",
       "</table>\n",
       "</div>"
      ],
      "text/plain": [
       "                    device_id      age\n",
       "count                74645.00 74645.00\n",
       "mean      -749135388419837.00    31.41\n",
       "std    5327149733911456768.00     9.87\n",
       "min   -9223067244542181376.00     1.00\n",
       "25%   -4617366812584264704.00    25.00\n",
       "50%     -18413620249632024.00    29.00\n",
       "75%    4636655899093149696.00    36.00\n",
       "max    9222849349208140800.00    96.00"
      ]
     },
     "execution_count": 17,
     "metadata": {},
     "output_type": "execute_result"
    }
   ],
   "source": [
    "gender.describe()"
   ]
  },
  {
   "cell_type": "code",
   "execution_count": 18,
   "id": "c24d2ff7",
   "metadata": {},
   "outputs": [
    {
     "data": {
      "text/plain": [
       "device_id    74645\n",
       "gender           2\n",
       "age             85\n",
       "group           12\n",
       "dtype: int64"
      ]
     },
     "execution_count": 18,
     "metadata": {},
     "output_type": "execute_result"
    }
   ],
   "source": [
    "gender.nunique()\n"
   ]
  },
  {
   "cell_type": "code",
   "execution_count": 19,
   "id": "eaf15c7a",
   "metadata": {
    "scrolled": false
   },
   "outputs": [
    {
     "data": {
      "text/plain": [
       "count   74645.00\n",
       "mean       31.41\n",
       "std         9.87\n",
       "min         1.00\n",
       "25%        25.00\n",
       "50%        29.00\n",
       "75%        36.00\n",
       "max        96.00\n",
       "Name: age, dtype: float64"
      ]
     },
     "execution_count": 19,
     "metadata": {},
     "output_type": "execute_result"
    }
   ],
   "source": [
    "#gender data: Age has 85 unique values ranging from 1 to 96 \n",
    "gender['age'].describe()"
   ]
  },
  {
   "cell_type": "code",
   "execution_count": 20,
   "id": "bd0efec9",
   "metadata": {},
   "outputs": [
    {
     "data": {
      "text/plain": [
       "array(['M32-38', 'M29-31', 'F24-26', 'F33-42', 'F27-28', 'M39+', 'M23-26',\n",
       "       'M27-28', 'M22-', 'F43+', 'F23-', 'F29-32'], dtype=object)"
      ]
     },
     "execution_count": 20,
     "metadata": {},
     "output_type": "execute_result"
    }
   ],
   "source": [
    "#gender data: Check group. This would need to be Feature Engineered based upon Age Bins without Gender\n",
    "gender['group'].unique()"
   ]
  },
  {
   "cell_type": "markdown",
   "id": "eccfd912",
   "metadata": {},
   "source": [
    "### The \"gender\" Data set has 4 columns. \n",
    "\n",
    "### The 74645 unique customers are identified by \"device_ids\" which are random numbers(dtype int64). \n",
    "\n",
    "### The gender values are either M or F and there are 12 Groups present which have gender and age profile clubbed and binned."
   ]
  },
  {
   "cell_type": "markdown",
   "id": "98ed86e2",
   "metadata": {},
   "source": [
    "<a name = Section9></a>\n",
    "## **6B. Data Pre-Processing (\"gender\")**"
   ]
  },
  {
   "cell_type": "code",
   "execution_count": 21,
   "id": "10a16ee9",
   "metadata": {},
   "outputs": [],
   "source": [
    "#gender data: creating 10 age brackets independent of the Gender and storing in a new column \"new_group\".\n",
    "bins = pd.IntervalIndex.from_tuples([(0,10), (10,20), (20,30),(30,40), (40,50), (50,60),(60,70),\n",
    "                                     (70,80), (80,90),(90,100)])\n",
    "gender['new_group']= pd.cut(np.array(gender['age']),bins) "
   ]
  },
  {
   "cell_type": "code",
   "execution_count": 22,
   "id": "0e84a751",
   "metadata": {},
   "outputs": [],
   "source": [
    "#gender data: Drop older group and save in \"gender_s\"\n",
    "gender_s = gender.drop(['group'], axis=1)"
   ]
  },
  {
   "cell_type": "markdown",
   "id": "7674ac06",
   "metadata": {},
   "source": [
    "<a name = Section10></a>\n",
    "## **7B Post- Profiling (gender_s)**"
   ]
  },
  {
   "cell_type": "code",
   "execution_count": 23,
   "id": "f0246055",
   "metadata": {},
   "outputs": [
    {
     "data": {
      "text/html": [
       "<div>\n",
       "<style scoped>\n",
       "    .dataframe tbody tr th:only-of-type {\n",
       "        vertical-align: middle;\n",
       "    }\n",
       "\n",
       "    .dataframe tbody tr th {\n",
       "        vertical-align: top;\n",
       "    }\n",
       "\n",
       "    .dataframe thead th {\n",
       "        text-align: right;\n",
       "    }\n",
       "</style>\n",
       "<table border=\"1\" class=\"dataframe\">\n",
       "  <thead>\n",
       "    <tr style=\"text-align: right;\">\n",
       "      <th></th>\n",
       "      <th>device_id</th>\n",
       "      <th>gender</th>\n",
       "      <th>age</th>\n",
       "      <th>new_group</th>\n",
       "    </tr>\n",
       "  </thead>\n",
       "  <tbody>\n",
       "    <tr>\n",
       "      <th>0</th>\n",
       "      <td>-8076087639492063270</td>\n",
       "      <td>M</td>\n",
       "      <td>35</td>\n",
       "      <td>(30, 40]</td>\n",
       "    </tr>\n",
       "    <tr>\n",
       "      <th>1</th>\n",
       "      <td>-2897161552818060146</td>\n",
       "      <td>M</td>\n",
       "      <td>35</td>\n",
       "      <td>(30, 40]</td>\n",
       "    </tr>\n",
       "    <tr>\n",
       "      <th>2</th>\n",
       "      <td>-8260683887967679142</td>\n",
       "      <td>M</td>\n",
       "      <td>35</td>\n",
       "      <td>(30, 40]</td>\n",
       "    </tr>\n",
       "    <tr>\n",
       "      <th>3</th>\n",
       "      <td>-4938849341048082022</td>\n",
       "      <td>M</td>\n",
       "      <td>30</td>\n",
       "      <td>(20, 30]</td>\n",
       "    </tr>\n",
       "    <tr>\n",
       "      <th>4</th>\n",
       "      <td>245133531816851882</td>\n",
       "      <td>M</td>\n",
       "      <td>30</td>\n",
       "      <td>(20, 30]</td>\n",
       "    </tr>\n",
       "  </tbody>\n",
       "</table>\n",
       "</div>"
      ],
      "text/plain": [
       "             device_id gender  age new_group\n",
       "0 -8076087639492063270      M   35  (30, 40]\n",
       "1 -2897161552818060146      M   35  (30, 40]\n",
       "2 -8260683887967679142      M   35  (30, 40]\n",
       "3 -4938849341048082022      M   30  (20, 30]\n",
       "4   245133531816851882      M   30  (20, 30]"
      ]
     },
     "execution_count": 23,
     "metadata": {},
     "output_type": "execute_result"
    }
   ],
   "source": [
    "gender_s.head()"
   ]
  },
  {
   "cell_type": "code",
   "execution_count": 24,
   "id": "9d128b74",
   "metadata": {},
   "outputs": [
    {
     "data": {
      "text/html": [
       "<div>\n",
       "<style scoped>\n",
       "    .dataframe tbody tr th:only-of-type {\n",
       "        vertical-align: middle;\n",
       "    }\n",
       "\n",
       "    .dataframe tbody tr th {\n",
       "        vertical-align: top;\n",
       "    }\n",
       "\n",
       "    .dataframe thead th {\n",
       "        text-align: right;\n",
       "    }\n",
       "</style>\n",
       "<table border=\"1\" class=\"dataframe\">\n",
       "  <thead>\n",
       "    <tr style=\"text-align: right;\">\n",
       "      <th></th>\n",
       "      <th>device_id</th>\n",
       "      <th>age</th>\n",
       "    </tr>\n",
       "  </thead>\n",
       "  <tbody>\n",
       "    <tr>\n",
       "      <th>count</th>\n",
       "      <td>74645.00</td>\n",
       "      <td>74645.00</td>\n",
       "    </tr>\n",
       "    <tr>\n",
       "      <th>mean</th>\n",
       "      <td>-749135388419837.00</td>\n",
       "      <td>31.41</td>\n",
       "    </tr>\n",
       "    <tr>\n",
       "      <th>std</th>\n",
       "      <td>5327149733911456768.00</td>\n",
       "      <td>9.87</td>\n",
       "    </tr>\n",
       "    <tr>\n",
       "      <th>min</th>\n",
       "      <td>-9223067244542181376.00</td>\n",
       "      <td>1.00</td>\n",
       "    </tr>\n",
       "    <tr>\n",
       "      <th>25%</th>\n",
       "      <td>-4617366812584264704.00</td>\n",
       "      <td>25.00</td>\n",
       "    </tr>\n",
       "    <tr>\n",
       "      <th>50%</th>\n",
       "      <td>-18413620249632024.00</td>\n",
       "      <td>29.00</td>\n",
       "    </tr>\n",
       "    <tr>\n",
       "      <th>75%</th>\n",
       "      <td>4636655899093149696.00</td>\n",
       "      <td>36.00</td>\n",
       "    </tr>\n",
       "    <tr>\n",
       "      <th>max</th>\n",
       "      <td>9222849349208140800.00</td>\n",
       "      <td>96.00</td>\n",
       "    </tr>\n",
       "  </tbody>\n",
       "</table>\n",
       "</div>"
      ],
      "text/plain": [
       "                    device_id      age\n",
       "count                74645.00 74645.00\n",
       "mean      -749135388419837.00    31.41\n",
       "std    5327149733911456768.00     9.87\n",
       "min   -9223067244542181376.00     1.00\n",
       "25%   -4617366812584264704.00    25.00\n",
       "50%     -18413620249632024.00    29.00\n",
       "75%    4636655899093149696.00    36.00\n",
       "max    9222849349208140800.00    96.00"
      ]
     },
     "execution_count": 24,
     "metadata": {},
     "output_type": "execute_result"
    }
   ],
   "source": [
    "gender_s.describe()"
   ]
  },
  {
   "cell_type": "markdown",
   "id": "0292f85e",
   "metadata": {},
   "source": [
    "### There are 74645  unique customers with age gender grouped by age in 10 bins (new_group)"
   ]
  },
  {
   "cell_type": "markdown",
   "id": "c5801ef0",
   "metadata": {},
   "source": [
    "## ____________________________________"
   ]
  },
  {
   "cell_type": "markdown",
   "id": "b81c456a",
   "metadata": {},
   "source": [
    "<a name = Section11></a>\n",
    "## **5C. Data Pre-Profiling (\"phone\")**"
   ]
  },
  {
   "cell_type": "code",
   "execution_count": 25,
   "id": "fdc57fbe",
   "metadata": {
    "scrolled": false
   },
   "outputs": [
    {
     "name": "stdout",
     "output_type": "stream",
     "text": [
      "<class 'pandas.core.frame.DataFrame'>\n",
      "RangeIndex: 87726 entries, 0 to 87725\n",
      "Data columns (total 3 columns):\n",
      " #   Column        Non-Null Count  Dtype \n",
      "---  ------        --------------  ----- \n",
      " 0   device_id     87726 non-null  int64 \n",
      " 1   phone_brand   87726 non-null  object\n",
      " 2   device_model  87726 non-null  object\n",
      "dtypes: int64(1), object(2)\n",
      "memory usage: 2.0+ MB\n"
     ]
    }
   ],
   "source": [
    "#phone\n",
    "\n",
    "phone.info()"
   ]
  },
  {
   "cell_type": "code",
   "execution_count": 26,
   "id": "181fe152",
   "metadata": {},
   "outputs": [
    {
     "data": {
      "text/html": [
       "<div>\n",
       "<style scoped>\n",
       "    .dataframe tbody tr th:only-of-type {\n",
       "        vertical-align: middle;\n",
       "    }\n",
       "\n",
       "    .dataframe tbody tr th {\n",
       "        vertical-align: top;\n",
       "    }\n",
       "\n",
       "    .dataframe thead th {\n",
       "        text-align: right;\n",
       "    }\n",
       "</style>\n",
       "<table border=\"1\" class=\"dataframe\">\n",
       "  <thead>\n",
       "    <tr style=\"text-align: right;\">\n",
       "      <th></th>\n",
       "      <th>device_id</th>\n",
       "      <th>phone_brand</th>\n",
       "      <th>device_model</th>\n",
       "    </tr>\n",
       "  </thead>\n",
       "  <tbody>\n",
       "    <tr>\n",
       "      <th>0</th>\n",
       "      <td>1877775838486905855</td>\n",
       "      <td>vivo</td>\n",
       "      <td>Y13</td>\n",
       "    </tr>\n",
       "    <tr>\n",
       "      <th>1</th>\n",
       "      <td>-3766087376657242966</td>\n",
       "      <td>小米</td>\n",
       "      <td>V183</td>\n",
       "    </tr>\n",
       "    <tr>\n",
       "      <th>2</th>\n",
       "      <td>-6238937574958215831</td>\n",
       "      <td>OPPO</td>\n",
       "      <td>R7s</td>\n",
       "    </tr>\n",
       "    <tr>\n",
       "      <th>3</th>\n",
       "      <td>8973197758510677470</td>\n",
       "      <td>三星</td>\n",
       "      <td>A368t</td>\n",
       "    </tr>\n",
       "    <tr>\n",
       "      <th>4</th>\n",
       "      <td>-2015528097870762664</td>\n",
       "      <td>小米</td>\n",
       "      <td>红米Note2</td>\n",
       "    </tr>\n",
       "  </tbody>\n",
       "</table>\n",
       "</div>"
      ],
      "text/plain": [
       "             device_id phone_brand device_model\n",
       "0  1877775838486905855        vivo          Y13\n",
       "1 -3766087376657242966          小米         V183\n",
       "2 -6238937574958215831        OPPO          R7s\n",
       "3  8973197758510677470          三星        A368t\n",
       "4 -2015528097870762664          小米      红米Note2"
      ]
     },
     "execution_count": 26,
     "metadata": {},
     "output_type": "execute_result"
    }
   ],
   "source": [
    "phone.head()"
   ]
  },
  {
   "cell_type": "code",
   "execution_count": 27,
   "id": "9870a1cd",
   "metadata": {
    "scrolled": false
   },
   "outputs": [
    {
     "data": {
      "text/plain": [
       "device_id       87726\n",
       "phone_brand       116\n",
       "device_model     1467\n",
       "dtype: int64"
      ]
     },
     "execution_count": 27,
     "metadata": {},
     "output_type": "execute_result"
    }
   ],
   "source": [
    "phone.nunique()"
   ]
  },
  {
   "cell_type": "markdown",
   "id": "d01af490",
   "metadata": {},
   "source": [
    "### The \"phone\" Data set has 3 columns. \n",
    "\n",
    "### The 87726 unique customers are identified by \"device_ids\" which are random numbers(dtype int64). \n",
    "\n",
    "### The phone_brand and device_model data is multilingual in nature consisting of 116 and 1467 unique values respectively. \n",
    "\n",
    "### Since the requirement is of only the phone_brand the same would be translated for top 15 unique values and device_model retained in the data for further analysis at a latter stage if deemed necessary."
   ]
  },
  {
   "cell_type": "markdown",
   "id": "a0b539b1",
   "metadata": {},
   "source": [
    "<a name = Section12></a>\n",
    "## **6C. Data Pre-Processing (\"phone\")**"
   ]
  },
  {
   "cell_type": "code",
   "execution_count": 28,
   "id": "17f5a36b",
   "metadata": {},
   "outputs": [
    {
     "data": {
      "text/plain": [
       "小米      21645\n",
       "三星      19211\n",
       "华为      15181\n",
       "vivo     7596\n",
       "OPPO     6717\n",
       "魅族       5531\n",
       "酷派       3979\n",
       "HTC      1272\n",
       "联想        982\n",
       "乐视        841\n",
       "Name: phone_brand, dtype: int64"
      ]
     },
     "execution_count": 28,
     "metadata": {},
     "output_type": "execute_result"
    }
   ],
   "source": [
    "phone[\"phone_brand\"].value_counts().nlargest(10)"
   ]
  },
  {
   "cell_type": "code",
   "execution_count": 29,
   "id": "959d6490",
   "metadata": {},
   "outputs": [],
   "source": [
    "#phone : For Translating the phone_brand google translater was used to construct the dictionary.\n",
    "# phone: Creating dictionary for trans table and translating required values \n",
    "trans_dict ={ '华为':'Huawei', '小米':'Xiaomi', '三星':'Samsung','vivo':'vivo','魅族':'Meizu','酷派':'Coolpad','乐视':'LeEco','联想 ':'Lenovo',\n",
    "             'HTC':'HTC','天语' :'Tianyu', '至尊宝':'Supreme Treasure', 'LG':'LG', '欧博信':'Oboxin', '优米':'Youmi',\n",
    "       'ZUK':'ZUK', '努比亚':'Nubia', '惠普':'HP','中国移动': 'China Mobile','TCL': 'TCL','锤子':'hammer','朵唯':'Dove',\n",
    "           'Youmi':'Youmi','海信' : 'Hisense','一加' : 'one plus','奇酷' : 'cool','语信'  : 'language letter','Tianyu' :'Tianyu',\n",
    "            '摩托罗拉' :'Motorola'}\n",
    " \n",
    "phone['phone_brand'] = phone['phone_brand'].replace(trans_dict)\n",
    "   "
   ]
  },
  {
   "cell_type": "markdown",
   "id": "44ed6105",
   "metadata": {},
   "source": [
    "<a name = Section13></a>\n",
    "## **7B Post- Profiling (phone)**"
   ]
  },
  {
   "cell_type": "code",
   "execution_count": 30,
   "id": "d7442dba",
   "metadata": {},
   "outputs": [
    {
     "data": {
      "text/html": [
       "<div>\n",
       "<style scoped>\n",
       "    .dataframe tbody tr th:only-of-type {\n",
       "        vertical-align: middle;\n",
       "    }\n",
       "\n",
       "    .dataframe tbody tr th {\n",
       "        vertical-align: top;\n",
       "    }\n",
       "\n",
       "    .dataframe thead th {\n",
       "        text-align: right;\n",
       "    }\n",
       "</style>\n",
       "<table border=\"1\" class=\"dataframe\">\n",
       "  <thead>\n",
       "    <tr style=\"text-align: right;\">\n",
       "      <th></th>\n",
       "      <th>device_id</th>\n",
       "      <th>phone_brand</th>\n",
       "      <th>device_model</th>\n",
       "    </tr>\n",
       "  </thead>\n",
       "  <tbody>\n",
       "    <tr>\n",
       "      <th>0</th>\n",
       "      <td>1877775838486905855</td>\n",
       "      <td>vivo</td>\n",
       "      <td>Y13</td>\n",
       "    </tr>\n",
       "    <tr>\n",
       "      <th>1</th>\n",
       "      <td>-3766087376657242966</td>\n",
       "      <td>Xiaomi</td>\n",
       "      <td>V183</td>\n",
       "    </tr>\n",
       "    <tr>\n",
       "      <th>2</th>\n",
       "      <td>-6238937574958215831</td>\n",
       "      <td>OPPO</td>\n",
       "      <td>R7s</td>\n",
       "    </tr>\n",
       "    <tr>\n",
       "      <th>3</th>\n",
       "      <td>8973197758510677470</td>\n",
       "      <td>Samsung</td>\n",
       "      <td>A368t</td>\n",
       "    </tr>\n",
       "    <tr>\n",
       "      <th>4</th>\n",
       "      <td>-2015528097870762664</td>\n",
       "      <td>Xiaomi</td>\n",
       "      <td>红米Note2</td>\n",
       "    </tr>\n",
       "  </tbody>\n",
       "</table>\n",
       "</div>"
      ],
      "text/plain": [
       "             device_id phone_brand device_model\n",
       "0  1877775838486905855        vivo          Y13\n",
       "1 -3766087376657242966      Xiaomi         V183\n",
       "2 -6238937574958215831        OPPO          R7s\n",
       "3  8973197758510677470     Samsung        A368t\n",
       "4 -2015528097870762664      Xiaomi      红米Note2"
      ]
     },
     "execution_count": 30,
     "metadata": {},
     "output_type": "execute_result"
    }
   ],
   "source": [
    "#mobile: Check Translation\n",
    "phone.head()"
   ]
  },
  {
   "cell_type": "markdown",
   "id": "cdf8e1b3",
   "metadata": {},
   "source": [
    "## Having readied the data set individually extraction of useful information requires the\n",
    "\n",
    "## merging of the three datasets \n",
    "\n",
    "## -   events_no_dup\n",
    "## -   gender_s\n",
    "## -   phone\n"
   ]
  },
  {
   "cell_type": "markdown",
   "id": "ed585f35",
   "metadata": {},
   "source": [
    "<a name = Section14></a>\n",
    "# **5. Merging & Pre-Profiling**"
   ]
  },
  {
   "cell_type": "code",
   "execution_count": 31,
   "id": "3926a2a3",
   "metadata": {
    "scrolled": false
   },
   "outputs": [
    {
     "name": "stdout",
     "output_type": "stream",
     "text": [
      "<class 'pandas.core.frame.DataFrame'>\n",
      "Int64Index: 406 entries, 0 to 405\n",
      "Data columns (total 10 columns):\n",
      " #   Column     Non-Null Count  Dtype         \n",
      "---  ------     --------------  -----         \n",
      " 0   event_id   406 non-null    int64         \n",
      " 1   device_id  406 non-null    int64         \n",
      " 2   timestamp  406 non-null    datetime64[ns]\n",
      " 3   longitude  406 non-null    float64       \n",
      " 4   latitude   406 non-null    float64       \n",
      " 5   city       406 non-null    object        \n",
      " 6   state      406 non-null    object        \n",
      " 7   gender     406 non-null    object        \n",
      " 8   age        406 non-null    int64         \n",
      " 9   new_group  406 non-null    category      \n",
      "dtypes: category(1), datetime64[ns](1), float64(2), int64(3), object(3)\n",
      "memory usage: 32.6+ KB\n"
     ]
    }
   ],
   "source": [
    "# Checking for Common customers by merging \"event_no_dup\" &  \"gender_s\" data sets \n",
    "# Storing the common customers as events_1\n",
    "\n",
    "events_1 = pd.merge(events_no_dup,gender_s,on='device_id',how='inner')\n",
    "events_1.info(null_counts=True)"
   ]
  },
  {
   "cell_type": "code",
   "execution_count": 32,
   "id": "13ce58a1",
   "metadata": {
    "scrolled": true
   },
   "outputs": [
    {
     "name": "stdout",
     "output_type": "stream",
     "text": [
      "<class 'pandas.core.frame.DataFrame'>\n",
      "Int64Index: 406 entries, 0 to 405\n",
      "Data columns (total 12 columns):\n",
      " #   Column        Non-Null Count  Dtype         \n",
      "---  ------        --------------  -----         \n",
      " 0   event_id      406 non-null    int64         \n",
      " 1   device_id     406 non-null    int64         \n",
      " 2   timestamp     406 non-null    datetime64[ns]\n",
      " 3   longitude     406 non-null    float64       \n",
      " 4   latitude      406 non-null    float64       \n",
      " 5   city          406 non-null    object        \n",
      " 6   state         406 non-null    object        \n",
      " 7   gender        406 non-null    object        \n",
      " 8   age           406 non-null    int64         \n",
      " 9   new_group     406 non-null    category      \n",
      " 10  phone_brand   406 non-null    object        \n",
      " 11  device_model  406 non-null    object        \n",
      "dtypes: category(1), datetime64[ns](1), float64(2), int64(3), object(5)\n",
      "memory usage: 38.9+ KB\n"
     ]
    }
   ],
   "source": [
    "# phone: There are no duplicate device_ids in the data set.\n",
    "# phone :Checking for common device_ids in the \"events_1\" dataset.\n",
    "#merging \"phone\" with \"events_1\" data set to get at the final figure pertaining to common customer data sets.\n",
    "#Storing as events_2\n",
    "events_opt_1 = pd.merge(events_1,phone,on='device_id',how='inner')\n",
    "events_opt_1.info()\n"
   ]
  },
  {
   "cell_type": "code",
   "execution_count": 33,
   "id": "558150e4",
   "metadata": {},
   "outputs": [],
   "source": [
    "events_opt_1.to_csv('Tableau_Capstone_1014_02Sep2022.csv',index= False)"
   ]
  },
  {
   "cell_type": "markdown",
   "id": "44fe3f39",
   "metadata": {},
   "source": [
    "## Only 406 customers identified by the device_id are common to the three datasets as seen by merging using inner join."
   ]
  },
  {
   "cell_type": "code",
   "execution_count": 34,
   "id": "c730283a",
   "metadata": {
    "scrolled": true
   },
   "outputs": [
    {
     "data": {
      "text/plain": [
       "Samsung    98\n",
       "Xiaomi     91\n",
       "Huawei     56\n",
       "OPPO       39\n",
       "vivo       35\n",
       "Meizu      30\n",
       "Coolpad    16\n",
       "HTC         9\n",
       "LeEco       7\n",
       "Nubia       4\n",
       "Name: phone_brand, dtype: int64"
      ]
     },
     "execution_count": 34,
     "metadata": {},
     "output_type": "execute_result"
    }
   ],
   "source": [
    "#Check the top ten brands in 406 value counts\n",
    "List_2 = events_opt_1[\"device_id\"]\n",
    "events_opt_1[\"phone_brand\"].value_counts().nlargest(10)"
   ]
  },
  {
   "cell_type": "markdown",
   "id": "9c1e8e38",
   "metadata": {},
   "source": [
    "## When compared with distribution in 87726 rows only change is in first two places having been interchanged."
   ]
  },
  {
   "cell_type": "code",
   "execution_count": 35,
   "id": "8b482731",
   "metadata": {},
   "outputs": [
    {
     "data": {
      "text/plain": [
       "count   406.00\n",
       "mean     31.79\n",
       "std      10.20\n",
       "min      10.00\n",
       "25%      25.00\n",
       "50%      30.00\n",
       "75%      36.00\n",
       "max      79.00\n",
       "Name: age, dtype: float64"
      ]
     },
     "execution_count": 35,
     "metadata": {},
     "output_type": "execute_result"
    }
   ],
   "source": [
    "# Check variation in \"age\" amongst 406 values\n",
    "events_opt_1[\"age\"].describe()"
   ]
  },
  {
   "cell_type": "code",
   "execution_count": 36,
   "id": "8393c186",
   "metadata": {},
   "outputs": [
    {
     "data": {
      "text/plain": [
       "count   74645.00\n",
       "mean       31.41\n",
       "std         9.87\n",
       "min         1.00\n",
       "25%        25.00\n",
       "50%        29.00\n",
       "75%        36.00\n",
       "max        96.00\n",
       "Name: age, dtype: float64"
      ]
     },
     "execution_count": 36,
     "metadata": {},
     "output_type": "execute_result"
    }
   ],
   "source": [
    "gender['age'].describe()"
   ]
  },
  {
   "cell_type": "markdown",
   "id": "5998b8eb",
   "metadata": {},
   "source": [
    "## When comparing the age distribution in 406 & 74645 rows of data the min age has changed to 10 and max 79 from 1 and 96 respectively. "
   ]
  },
  {
   "cell_type": "markdown",
   "id": "de18a368",
   "metadata": {},
   "source": [
    "## From this 406 data for 32 states data for target states needs to be filtered.\n",
    "\n",
    "## The same is stored as filt_states_opt_1"
   ]
  },
  {
   "cell_type": "code",
   "execution_count": 37,
   "id": "149523be",
   "metadata": {
    "scrolled": true
   },
   "outputs": [
    {
     "name": "stdout",
     "output_type": "stream",
     "text": [
      "<class 'pandas.core.frame.DataFrame'>\n",
      "Int64Index: 120 entries, 2 to 405\n",
      "Data columns (total 12 columns):\n",
      " #   Column        Non-Null Count  Dtype         \n",
      "---  ------        --------------  -----         \n",
      " 0   event_id      120 non-null    int64         \n",
      " 1   device_id     120 non-null    int64         \n",
      " 2   timestamp     120 non-null    datetime64[ns]\n",
      " 3   longitude     120 non-null    float64       \n",
      " 4   latitude      120 non-null    float64       \n",
      " 5   city          120 non-null    object        \n",
      " 6   state         120 non-null    object        \n",
      " 7   gender        120 non-null    object        \n",
      " 8   age           120 non-null    int64         \n",
      " 9   new_group     120 non-null    category      \n",
      " 10  phone_brand   120 non-null    object        \n",
      " 11  device_model  120 non-null    object        \n",
      "dtypes: category(1), datetime64[ns](1), float64(2), int64(3), object(5)\n",
      "memory usage: 11.8+ KB\n"
     ]
    }
   ],
   "source": [
    "#events_f Extracting the Target States data and stoting it as Filtered State data as FiltStates Data_Frame\n",
    "\n",
    "list1 = ['WestBengal', 'Karnataka', 'Gujarat', 'Bihar', 'Punjab', 'Kerala']\n",
    "filt_states_opt_1 = events_opt_1[events_opt_1['state'].isin(list1)]\n",
    "filt_states_opt_1.info()\n",
    "\n"
   ]
  },
  {
   "cell_type": "markdown",
   "id": "3d1327e4",
   "metadata": {},
   "source": [
    "## Only 120 rows available."
   ]
  },
  {
   "cell_type": "code",
   "execution_count": 38,
   "id": "3b78c19d",
   "metadata": {
    "scrolled": true
   },
   "outputs": [
    {
     "data": {
      "text/plain": [
       "Xiaomi     30\n",
       "Samsung    27\n",
       "Huawei     15\n",
       "vivo       10\n",
       "Meizu      10\n",
       "OPPO        8\n",
       "Coolpad     7\n",
       "LeEco       4\n",
       "Nubia       3\n",
       "HTC         2\n",
       "Name: phone_brand, dtype: int64"
      ]
     },
     "execution_count": 38,
     "metadata": {},
     "output_type": "execute_result"
    }
   ],
   "source": [
    "filt_states_opt_1[\"phone_brand\"].value_counts().nlargest(10)"
   ]
  },
  {
   "cell_type": "code",
   "execution_count": 39,
   "id": "cc87b907",
   "metadata": {},
   "outputs": [
    {
     "data": {
      "text/plain": [
       "count   120.00\n",
       "mean     30.77\n",
       "std       9.81\n",
       "min      18.00\n",
       "25%      24.00\n",
       "50%      29.00\n",
       "75%      34.00\n",
       "max      67.00\n",
       "Name: age, dtype: float64"
      ]
     },
     "execution_count": 39,
     "metadata": {},
     "output_type": "execute_result"
    }
   ],
   "source": [
    "filt_states_opt_1[\"age\"].describe()"
   ]
  },
  {
   "cell_type": "markdown",
   "id": "743fd02b",
   "metadata": {},
   "source": [
    "## Not much change in distribution of data expected or observed"
   ]
  },
  {
   "cell_type": "markdown",
   "id": "991166f0",
   "metadata": {},
   "source": [
    "# _______________________________________________________"
   ]
  },
  {
   "cell_type": "markdown",
   "id": "240957ca",
   "metadata": {},
   "source": [
    "# ________________________________________________________"
   ]
  },
  {
   "cell_type": "markdown",
   "id": "e4c1faba",
   "metadata": {},
   "source": [
    "## Option 2"
   ]
  },
  {
   "cell_type": "markdown",
   "id": "da72d71f",
   "metadata": {},
   "source": [
    "## It is seen that the data is complete in respect of only 406 customers. \n",
    "## As per the problem statement insights into the customer behaviour using demographic data is the goal.  \n",
    "## In order to minimise the error and considering \"60865 - 406\" value gap as unacceptable, it was decided to impute 60459 values via a random selection from gender and phone data sets in sequence as separate columns. This is expected to provide balance to the data while ensuring adequate spread thus reducing the overall error and increase accuracy of insights.\n",
    "## The missing values in combined data set after dropping duplicates have been imputed from the mobile and gender data sets respectively. There were two courses of action available. The first of to use 406 values of which only 120 were available in the data set pertaining to the target states. The second choice of imputing entire column filling  60865 values was chosen as it would give lessor error in the analysis and forecast.  \n",
    "\n",
    "## Option 2 was chosen imputing entire values from relevant columns in gender and phone data sets"
   ]
  },
  {
   "cell_type": "markdown",
   "id": "d492d2a0",
   "metadata": {},
   "source": [
    "<a name = Section15></a>\n",
    "## **6. Pre-Processing**"
   ]
  },
  {
   "cell_type": "code",
   "execution_count": 40,
   "id": "fa376ca7",
   "metadata": {},
   "outputs": [
    {
     "name": "stdout",
     "output_type": "stream",
     "text": [
      "<class 'pandas.core.frame.DataFrame'>\n",
      "Int64Index: 60865 entries, 0 to 60864\n",
      "Data columns (total 12 columns):\n",
      " #   Column        Non-Null Count  Dtype         \n",
      "---  ------        --------------  -----         \n",
      " 0   event_id      60865 non-null  int64         \n",
      " 1   device_id     60865 non-null  int64         \n",
      " 2   timestamp     60865 non-null  datetime64[ns]\n",
      " 3   longitude     60865 non-null  float64       \n",
      " 4   latitude      60865 non-null  float64       \n",
      " 5   city          60865 non-null  object        \n",
      " 6   state         60865 non-null  object        \n",
      " 7   gender        406 non-null    object        \n",
      " 8   age           406 non-null    float64       \n",
      " 9   new_group     406 non-null    category      \n",
      " 10  phone_brand   406 non-null    object        \n",
      " 11  device_model  406 non-null    object        \n",
      "dtypes: category(1), datetime64[ns](1), float64(3), int64(2), object(5)\n",
      "memory usage: 5.6+ MB\n"
     ]
    }
   ],
   "source": [
    "# Option 2: Merging all three data sets with \"event_no_dup\" as master data set using left join on device_id.\n",
    "# Expecting only 406 common customers present in all data sets.\n",
    "\n",
    "events_3 = pd.merge(events_no_dup,gender_s,on='device_id',how='left')\n",
    "events_opt_2 = pd.merge(events_3,phone,on='device_id',how='left')\n",
    "events_opt_2.info(null_counts=True)"
   ]
  },
  {
   "cell_type": "code",
   "execution_count": 41,
   "id": "ff00ec95",
   "metadata": {},
   "outputs": [
    {
     "name": "stdout",
     "output_type": "stream",
     "text": [
      "<class 'pandas.core.frame.DataFrame'>\n",
      "Int64Index: 60865 entries, 0 to 60864\n",
      "Data columns (total 15 columns):\n",
      " #   Column        Non-Null Count  Dtype         \n",
      "---  ------        --------------  -----         \n",
      " 0   event_id      60865 non-null  int64         \n",
      " 1   device_id     60865 non-null  int64         \n",
      " 2   timestamp     60865 non-null  datetime64[ns]\n",
      " 3   longitude     60865 non-null  float64       \n",
      " 4   latitude      60865 non-null  float64       \n",
      " 5   city          60865 non-null  object        \n",
      " 6   state         60865 non-null  object        \n",
      " 7   gender        406 non-null    object        \n",
      " 8   age           406 non-null    float64       \n",
      " 9   new_group     406 non-null    category      \n",
      " 10  phone_brand   406 non-null    object        \n",
      " 11  device_model  406 non-null    object        \n",
      " 12  gender_i      60865 non-null  object        \n",
      " 13  age_i         60865 non-null  int64         \n",
      " 14  new_group_i   60865 non-null  category      \n",
      "dtypes: category(2), datetime64[ns](1), float64(3), int64(3), object(6)\n",
      "memory usage: 6.6+ MB\n"
     ]
    }
   ],
   "source": [
    "#Creating new columns \"gender_i\",'age_i', 'new_group_i'(imputed from \"gender_s data set\") length 60865.\n",
    "events_opt_2['gender_i']= gender_s['gender'][0:60865]\n",
    "events_opt_2['age_i']= gender_s['age'][0:60865]\n",
    "events_opt_2['new_group_i']= gender_s['new_group'][0:60865]\n",
    "events_opt_2.info()"
   ]
  },
  {
   "cell_type": "code",
   "execution_count": 42,
   "id": "2b3307f9",
   "metadata": {},
   "outputs": [
    {
     "name": "stdout",
     "output_type": "stream",
     "text": [
      "<class 'pandas.core.frame.DataFrame'>\n",
      "Int64Index: 60865 entries, 0 to 60864\n",
      "Data columns (total 17 columns):\n",
      " #   Column          Non-Null Count  Dtype         \n",
      "---  ------          --------------  -----         \n",
      " 0   event_id        60865 non-null  int64         \n",
      " 1   device_id       60865 non-null  int64         \n",
      " 2   timestamp       60865 non-null  datetime64[ns]\n",
      " 3   longitude       60865 non-null  float64       \n",
      " 4   latitude        60865 non-null  float64       \n",
      " 5   city            60865 non-null  object        \n",
      " 6   state           60865 non-null  object        \n",
      " 7   gender          406 non-null    object        \n",
      " 8   age             406 non-null    float64       \n",
      " 9   new_group       406 non-null    category      \n",
      " 10  phone_brand     406 non-null    object        \n",
      " 11  device_model    406 non-null    object        \n",
      " 12  gender_i        60865 non-null  object        \n",
      " 13  age_i           60865 non-null  int64         \n",
      " 14  new_group_i     60865 non-null  category      \n",
      " 15  phone_brand_i   60865 non-null  object        \n",
      " 16  device_model_i  60865 non-null  object        \n",
      "dtypes: category(2), datetime64[ns](1), float64(3), int64(3), object(8)\n",
      "memory usage: 7.5+ MB\n"
     ]
    }
   ],
   "source": [
    "#Creating new columns \"'phone_brand_i'\",''device_model_i'(imputed from \"phone\" data set\") length 60865.\n",
    "events_opt_2['phone_brand_i']= phone['phone_brand'][0:60865]\n",
    "events_opt_2['device_model_i']= phone['device_model'][0:60865]\n",
    "events_opt_2.info()\n"
   ]
  },
  {
   "cell_type": "code",
   "execution_count": 43,
   "id": "a8279f37",
   "metadata": {
    "scrolled": true
   },
   "outputs": [
    {
     "name": "stdout",
     "output_type": "stream",
     "text": [
      "<class 'pandas.core.frame.DataFrame'>\n",
      "Int64Index: 60865 entries, 0 to 60864\n",
      "Data columns (total 12 columns):\n",
      " #   Column          Non-Null Count  Dtype         \n",
      "---  ------          --------------  -----         \n",
      " 0   event_id        60865 non-null  int64         \n",
      " 1   device_id       60865 non-null  int64         \n",
      " 2   timestamp       60865 non-null  datetime64[ns]\n",
      " 3   longitude       60865 non-null  float64       \n",
      " 4   latitude        60865 non-null  float64       \n",
      " 5   city            60865 non-null  object        \n",
      " 6   state           60865 non-null  object        \n",
      " 7   gender_i        60865 non-null  object        \n",
      " 8   age_i           60865 non-null  int64         \n",
      " 9   new_group_i     60865 non-null  category      \n",
      " 10  phone_brand_i   60865 non-null  object        \n",
      " 11  device_model_i  60865 non-null  object        \n",
      "dtypes: category(1), datetime64[ns](1), float64(2), int64(3), object(5)\n",
      "memory usage: 5.6+ MB\n"
     ]
    }
   ],
   "source": [
    "#events_opt_2: Dropping the columns with missing values and storing in events_final dataFrame as events_f\n",
    "events_f = events_opt_2.drop(['gender','age','new_group','phone_brand','device_model'],axis=1)\n",
    "events_f.info()"
   ]
  },
  {
   "cell_type": "code",
   "execution_count": 44,
   "id": "6fda4713",
   "metadata": {
    "scrolled": false
   },
   "outputs": [
    {
     "data": {
      "text/html": [
       "<div>\n",
       "<style scoped>\n",
       "    .dataframe tbody tr th:only-of-type {\n",
       "        vertical-align: middle;\n",
       "    }\n",
       "\n",
       "    .dataframe tbody tr th {\n",
       "        vertical-align: top;\n",
       "    }\n",
       "\n",
       "    .dataframe thead th {\n",
       "        text-align: right;\n",
       "    }\n",
       "</style>\n",
       "<table border=\"1\" class=\"dataframe\">\n",
       "  <thead>\n",
       "    <tr style=\"text-align: right;\">\n",
       "      <th></th>\n",
       "      <th>event_id</th>\n",
       "      <th>device_id</th>\n",
       "      <th>timestamp</th>\n",
       "      <th>longitude</th>\n",
       "      <th>latitude</th>\n",
       "      <th>city</th>\n",
       "      <th>state</th>\n",
       "      <th>gender_i</th>\n",
       "      <th>age_i</th>\n",
       "      <th>new_group_i</th>\n",
       "      <th>phone_brand_i</th>\n",
       "      <th>device_model_i</th>\n",
       "    </tr>\n",
       "  </thead>\n",
       "  <tbody>\n",
       "    <tr>\n",
       "      <th>0</th>\n",
       "      <td>2765368</td>\n",
       "      <td>2973347786994914304</td>\n",
       "      <td>2016-05-07 22:52:05</td>\n",
       "      <td>77.23</td>\n",
       "      <td>28.73</td>\n",
       "      <td>Delhi</td>\n",
       "      <td>Delhi</td>\n",
       "      <td>M</td>\n",
       "      <td>35</td>\n",
       "      <td>(30, 40]</td>\n",
       "      <td>vivo</td>\n",
       "      <td>Y13</td>\n",
       "    </tr>\n",
       "    <tr>\n",
       "      <th>1</th>\n",
       "      <td>2955066</td>\n",
       "      <td>4734221357723754496</td>\n",
       "      <td>2016-05-01 20:44:16</td>\n",
       "      <td>88.39</td>\n",
       "      <td>22.66</td>\n",
       "      <td>Calcutta</td>\n",
       "      <td>WestBengal</td>\n",
       "      <td>M</td>\n",
       "      <td>35</td>\n",
       "      <td>(30, 40]</td>\n",
       "      <td>Xiaomi</td>\n",
       "      <td>V183</td>\n",
       "    </tr>\n",
       "    <tr>\n",
       "      <th>2</th>\n",
       "      <td>605968</td>\n",
       "      <td>-3264499652692492800</td>\n",
       "      <td>2016-05-02 14:23:04</td>\n",
       "      <td>77.26</td>\n",
       "      <td>28.76</td>\n",
       "      <td>Delhi</td>\n",
       "      <td>Delhi</td>\n",
       "      <td>M</td>\n",
       "      <td>35</td>\n",
       "      <td>(30, 40]</td>\n",
       "      <td>OPPO</td>\n",
       "      <td>R7s</td>\n",
       "    </tr>\n",
       "    <tr>\n",
       "      <th>3</th>\n",
       "      <td>448114</td>\n",
       "      <td>5731369272434022400</td>\n",
       "      <td>2016-05-03 13:21:16</td>\n",
       "      <td>80.34</td>\n",
       "      <td>13.15</td>\n",
       "      <td>Chennai</td>\n",
       "      <td>TamilNadu</td>\n",
       "      <td>M</td>\n",
       "      <td>30</td>\n",
       "      <td>(20, 30]</td>\n",
       "      <td>Samsung</td>\n",
       "      <td>A368t</td>\n",
       "    </tr>\n",
       "    <tr>\n",
       "      <th>4</th>\n",
       "      <td>665740</td>\n",
       "      <td>338888002570799936</td>\n",
       "      <td>2016-05-06 03:51:05</td>\n",
       "      <td>86.00</td>\n",
       "      <td>23.84</td>\n",
       "      <td>Bokaro</td>\n",
       "      <td>Jharkhand</td>\n",
       "      <td>M</td>\n",
       "      <td>30</td>\n",
       "      <td>(20, 30]</td>\n",
       "      <td>Xiaomi</td>\n",
       "      <td>红米Note2</td>\n",
       "    </tr>\n",
       "  </tbody>\n",
       "</table>\n",
       "</div>"
      ],
      "text/plain": [
       "   event_id            device_id           timestamp  longitude  latitude  \\\n",
       "0   2765368  2973347786994914304 2016-05-07 22:52:05      77.23     28.73   \n",
       "1   2955066  4734221357723754496 2016-05-01 20:44:16      88.39     22.66   \n",
       "2    605968 -3264499652692492800 2016-05-02 14:23:04      77.26     28.76   \n",
       "3    448114  5731369272434022400 2016-05-03 13:21:16      80.34     13.15   \n",
       "4    665740   338888002570799936 2016-05-06 03:51:05      86.00     23.84   \n",
       "\n",
       "       city       state gender_i  age_i new_group_i phone_brand_i  \\\n",
       "0     Delhi       Delhi        M     35    (30, 40]          vivo   \n",
       "1  Calcutta  WestBengal        M     35    (30, 40]        Xiaomi   \n",
       "2     Delhi       Delhi        M     35    (30, 40]          OPPO   \n",
       "3   Chennai   TamilNadu        M     30    (20, 30]       Samsung   \n",
       "4    Bokaro   Jharkhand        M     30    (20, 30]        Xiaomi   \n",
       "\n",
       "  device_model_i  \n",
       "0            Y13  \n",
       "1           V183  \n",
       "2            R7s  \n",
       "3          A368t  \n",
       "4        红米Note2  "
      ]
     },
     "execution_count": 44,
     "metadata": {},
     "output_type": "execute_result"
    }
   ],
   "source": [
    "#Check\n",
    "events_f.head()"
   ]
  },
  {
   "cell_type": "markdown",
   "id": "5198d6f0",
   "metadata": {},
   "source": [
    "## We need to identify the correct data of 406 common device_ids and include them to arrive at the final dataset."
   ]
  },
  {
   "cell_type": "code",
   "execution_count": 45,
   "id": "3a9885db",
   "metadata": {
    "scrolled": false
   },
   "outputs": [
    {
     "name": "stdout",
     "output_type": "stream",
     "text": [
      "<class 'pandas.core.frame.DataFrame'>\n",
      "Int64Index: 60459 entries, 1 to 60864\n",
      "Data columns (total 12 columns):\n",
      " #   Column          Non-Null Count  Dtype         \n",
      "---  ------          --------------  -----         \n",
      " 0   event_id        60459 non-null  int64         \n",
      " 1   device_id       60459 non-null  int64         \n",
      " 2   timestamp       60459 non-null  datetime64[ns]\n",
      " 3   longitude       60459 non-null  float64       \n",
      " 4   latitude        60459 non-null  float64       \n",
      " 5   city            60459 non-null  object        \n",
      " 6   state           60459 non-null  object        \n",
      " 7   gender_i        60459 non-null  object        \n",
      " 8   age_i           60459 non-null  int64         \n",
      " 9   new_group_i     60459 non-null  category      \n",
      " 10  phone_brand_i   60459 non-null  object        \n",
      " 11  device_model_i  60459 non-null  object        \n",
      "dtypes: category(1), datetime64[ns](1), float64(2), int64(3), object(5)\n",
      "memory usage: 5.6+ MB\n"
     ]
    }
   ],
   "source": [
    "#Identifying 406 common device_ids in \"events_f\" and storing as \"events_f_l(ess)406\":\n",
    "List_2 = events_opt_1[\"device_id\"]\n",
    "\n",
    "events_f_l406 = events_f.loc[~events_f[\"device_id\"].isin(List_2)]\n",
    "\n",
    "events_f_l406.info()\n"
   ]
  },
  {
   "cell_type": "code",
   "execution_count": 46,
   "id": "2ba8ca70",
   "metadata": {},
   "outputs": [
    {
     "name": "stdout",
     "output_type": "stream",
     "text": [
      "<class 'pandas.core.frame.DataFrame'>\n",
      "Index: 0 entries\n",
      "Data columns (total 23 columns):\n",
      " #   Column          Non-Null Count  Dtype         \n",
      "---  ------          --------------  -----         \n",
      " 0   event_id_x      0 non-null      int64         \n",
      " 1   device_id       0 non-null      int64         \n",
      " 2   timestamp_x     0 non-null      datetime64[ns]\n",
      " 3   longitude_x     0 non-null      float64       \n",
      " 4   latitude_x      0 non-null      float64       \n",
      " 5   city_x          0 non-null      object        \n",
      " 6   state_x         0 non-null      object        \n",
      " 7   gender_i        0 non-null      object        \n",
      " 8   age_i           0 non-null      int64         \n",
      " 9   new_group_i     0 non-null      category      \n",
      " 10  phone_brand_i   0 non-null      object        \n",
      " 11  device_model_i  0 non-null      object        \n",
      " 12  event_id_y      0 non-null      int64         \n",
      " 13  timestamp_y     0 non-null      datetime64[ns]\n",
      " 14  longitude_y     0 non-null      float64       \n",
      " 15  latitude_y      0 non-null      float64       \n",
      " 16  city_y          0 non-null      object        \n",
      " 17  state_y         0 non-null      object        \n",
      " 18  gender          0 non-null      object        \n",
      " 19  age             0 non-null      int64         \n",
      " 20  new_group       0 non-null      category      \n",
      " 21  phone_brand     0 non-null      object        \n",
      " 22  device_model    0 non-null      object        \n",
      "dtypes: category(2), datetime64[ns](2), float64(4), int64(5), object(10)\n",
      "memory usage: 920.0+ bytes\n"
     ]
    }
   ],
   "source": [
    "#Checking Common device_ids still left Expecting nill \n",
    "events_check = pd.merge(events_f_l406,events_opt_1,on='device_id',how='inner')\n",
    "\n",
    "events_check.info()"
   ]
  },
  {
   "cell_type": "code",
   "execution_count": 47,
   "id": "d3bea044",
   "metadata": {
    "scrolled": false
   },
   "outputs": [
    {
     "name": "stdout",
     "output_type": "stream",
     "text": [
      "<class 'pandas.core.frame.DataFrame'>\n",
      "Int64Index: 60459 entries, 1 to 60864\n",
      "Data columns (total 12 columns):\n",
      " #   Column        Non-Null Count  Dtype         \n",
      "---  ------        --------------  -----         \n",
      " 0   event_id      60459 non-null  int64         \n",
      " 1   device_id     60459 non-null  int64         \n",
      " 2   timestamp     60459 non-null  datetime64[ns]\n",
      " 3   longitude     60459 non-null  float64       \n",
      " 4   latitude      60459 non-null  float64       \n",
      " 5   city          60459 non-null  object        \n",
      " 6   state         60459 non-null  object        \n",
      " 7   gender        60459 non-null  object        \n",
      " 8   age           60459 non-null  int64         \n",
      " 9   new_group     60459 non-null  category      \n",
      " 10  phone_brand   60459 non-null  object        \n",
      " 11  device_model  60459 non-null  object        \n",
      "dtypes: category(1), datetime64[ns](1), float64(2), int64(3), object(5)\n",
      "memory usage: 5.6+ MB\n"
     ]
    }
   ],
   "source": [
    "#Renaming columns before concat with original 406 device_ids\n",
    "events_f_l406.rename(columns={\"gender_i\":'gender',\"age_i\":\"age\",\"new_group_i\":\"new_group\",\"phone_brand_i\":\"phone_brand\",\"device_model_i\":\"device_model\"}, inplace=True)\n",
    "events_f_l406.info()"
   ]
  },
  {
   "cell_type": "code",
   "execution_count": 48,
   "id": "ab4eb1f5",
   "metadata": {},
   "outputs": [
    {
     "name": "stdout",
     "output_type": "stream",
     "text": [
      "<class 'pandas.core.frame.DataFrame'>\n",
      "Int64Index: 60865 entries, -9222956879900150784 to 9222849349208140800\n",
      "Data columns (total 11 columns):\n",
      " #   Column        Non-Null Count  Dtype         \n",
      "---  ------        --------------  -----         \n",
      " 0   event_id      60865 non-null  int64         \n",
      " 1   timestamp     60865 non-null  datetime64[ns]\n",
      " 2   longitude     60865 non-null  float64       \n",
      " 3   latitude      60865 non-null  float64       \n",
      " 4   city          60865 non-null  object        \n",
      " 5   state         60865 non-null  object        \n",
      " 6   gender        60865 non-null  object        \n",
      " 7   age           60865 non-null  int64         \n",
      " 8   new_group     60865 non-null  category      \n",
      " 9   phone_brand   60865 non-null  object        \n",
      " 10  device_model  60865 non-null  object        \n",
      "dtypes: category(1), datetime64[ns](1), float64(2), int64(2), object(5)\n",
      "memory usage: 5.2+ MB\n"
     ]
    }
   ],
   "source": [
    "#Arriving at the final data frame with no missing values and includes the 406 common device_id data  \n",
    "events_abs_final = events_f_l406.set_index('device_id').combine_first(events_opt_1.set_index('device_id'))\n",
    "events_abs_final.info()"
   ]
  },
  {
   "cell_type": "markdown",
   "id": "5cda1311",
   "metadata": {},
   "source": [
    "<a name = Section16></a>\n",
    "## **7. Post-Profiling**"
   ]
  },
  {
   "cell_type": "code",
   "execution_count": 49,
   "id": "e8e22b7d",
   "metadata": {
    "scrolled": true
   },
   "outputs": [
    {
     "data": {
      "text/html": [
       "<div>\n",
       "<style scoped>\n",
       "    .dataframe tbody tr th:only-of-type {\n",
       "        vertical-align: middle;\n",
       "    }\n",
       "\n",
       "    .dataframe tbody tr th {\n",
       "        vertical-align: top;\n",
       "    }\n",
       "\n",
       "    .dataframe thead th {\n",
       "        text-align: right;\n",
       "    }\n",
       "</style>\n",
       "<table border=\"1\" class=\"dataframe\">\n",
       "  <thead>\n",
       "    <tr style=\"text-align: right;\">\n",
       "      <th></th>\n",
       "      <th>event_id</th>\n",
       "      <th>longitude</th>\n",
       "      <th>latitude</th>\n",
       "      <th>age</th>\n",
       "    </tr>\n",
       "  </thead>\n",
       "  <tbody>\n",
       "    <tr>\n",
       "      <th>count</th>\n",
       "      <td>60865.00</td>\n",
       "      <td>60865.00</td>\n",
       "      <td>60865.00</td>\n",
       "      <td>60865.00</td>\n",
       "    </tr>\n",
       "    <tr>\n",
       "      <th>mean</th>\n",
       "      <td>1632023.18</td>\n",
       "      <td>79.14</td>\n",
       "      <td>20.71</td>\n",
       "      <td>31.70</td>\n",
       "    </tr>\n",
       "    <tr>\n",
       "      <th>std</th>\n",
       "      <td>939556.05</td>\n",
       "      <td>4.96</td>\n",
       "      <td>5.74</td>\n",
       "      <td>10.15</td>\n",
       "    </tr>\n",
       "    <tr>\n",
       "      <th>min</th>\n",
       "      <td>40.00</td>\n",
       "      <td>69.61</td>\n",
       "      <td>8.19</td>\n",
       "      <td>1.00</td>\n",
       "    </tr>\n",
       "    <tr>\n",
       "      <th>25%</th>\n",
       "      <td>816877.00</td>\n",
       "      <td>75.90</td>\n",
       "      <td>17.03</td>\n",
       "      <td>25.00</td>\n",
       "    </tr>\n",
       "    <tr>\n",
       "      <th>50%</th>\n",
       "      <td>1636567.00</td>\n",
       "      <td>77.65</td>\n",
       "      <td>21.02</td>\n",
       "      <td>29.00</td>\n",
       "    </tr>\n",
       "    <tr>\n",
       "      <th>75%</th>\n",
       "      <td>2444706.00</td>\n",
       "      <td>80.56</td>\n",
       "      <td>25.60</td>\n",
       "      <td>36.00</td>\n",
       "    </tr>\n",
       "    <tr>\n",
       "      <th>max</th>\n",
       "      <td>3252895.00</td>\n",
       "      <td>95.46</td>\n",
       "      <td>34.39</td>\n",
       "      <td>96.00</td>\n",
       "    </tr>\n",
       "  </tbody>\n",
       "</table>\n",
       "</div>"
      ],
      "text/plain": [
       "        event_id  longitude  latitude      age\n",
       "count   60865.00   60865.00  60865.00 60865.00\n",
       "mean  1632023.18      79.14     20.71    31.70\n",
       "std    939556.05       4.96      5.74    10.15\n",
       "min        40.00      69.61      8.19     1.00\n",
       "25%    816877.00      75.90     17.03    25.00\n",
       "50%   1636567.00      77.65     21.02    29.00\n",
       "75%   2444706.00      80.56     25.60    36.00\n",
       "max   3252895.00      95.46     34.39    96.00"
      ]
     },
     "execution_count": 49,
     "metadata": {},
     "output_type": "execute_result"
    }
   ],
   "source": [
    "# Check for spread and irregularities\n",
    "events_abs_final.describe()"
   ]
  },
  {
   "cell_type": "code",
   "execution_count": 50,
   "id": "fde49d55",
   "metadata": {
    "scrolled": true
   },
   "outputs": [
    {
     "name": "stdout",
     "output_type": "stream",
     "text": [
      "<class 'pandas.core.frame.DataFrame'>\n",
      "Int64Index: 19032 entries, -9221066489596332032 to 9222849349208140800\n",
      "Data columns (total 11 columns):\n",
      " #   Column        Non-Null Count  Dtype         \n",
      "---  ------        --------------  -----         \n",
      " 0   event_id      19032 non-null  int64         \n",
      " 1   timestamp     19032 non-null  datetime64[ns]\n",
      " 2   longitude     19032 non-null  float64       \n",
      " 3   latitude      19032 non-null  float64       \n",
      " 4   city          19032 non-null  object        \n",
      " 5   state         19032 non-null  object        \n",
      " 6   gender        19032 non-null  object        \n",
      " 7   age           19032 non-null  int64         \n",
      " 8   new_group     19032 non-null  category      \n",
      " 9   phone_brand   19032 non-null  object        \n",
      " 10  device_model  19032 non-null  object        \n",
      "dtypes: category(1), datetime64[ns](1), float64(2), int64(2), object(5)\n",
      "memory usage: 1.6+ MB\n"
     ]
    }
   ],
   "source": [
    "#events_f Extracting the Target States data and stoting it as Filtered State data as filt_states Data_Frame\n",
    "\n",
    "list1 = ['WestBengal', 'Karnataka', 'Gujarat', 'Bihar', 'Punjab', 'Kerala']\n",
    "filt_states = events_abs_final[events_abs_final['state'].isin(list1)]\n",
    "filt_states.info()\n"
   ]
  },
  {
   "cell_type": "code",
   "execution_count": 51,
   "id": "192de252",
   "metadata": {},
   "outputs": [
    {
     "data": {
      "text/plain": [
       "Xiaomi     4732\n",
       "Samsung    4117\n",
       "Huawei     3318\n",
       "vivo       1672\n",
       "OPPO       1387\n",
       "Meizu      1200\n",
       "Coolpad     853\n",
       "HTC         306\n",
       "Lenovo      220\n",
       "LeEco       176\n",
       "Name: phone_brand, dtype: int64"
      ]
     },
     "execution_count": 51,
     "metadata": {},
     "output_type": "execute_result"
    }
   ],
   "source": [
    "filt_states[\"phone_brand\"].value_counts().nlargest(10)"
   ]
  },
  {
   "cell_type": "code",
   "execution_count": 52,
   "id": "b9226ed9",
   "metadata": {},
   "outputs": [
    {
     "data": {
      "text/plain": [
       "count   19032.00\n",
       "mean       31.46\n",
       "std         9.88\n",
       "min         6.00\n",
       "25%        25.00\n",
       "50%        29.00\n",
       "75%        36.00\n",
       "max        88.00\n",
       "Name: age, dtype: float64"
      ]
     },
     "execution_count": 52,
     "metadata": {},
     "output_type": "execute_result"
    }
   ],
   "source": [
    "filt_states[\"age\"].describe()"
   ]
  },
  {
   "cell_type": "markdown",
   "id": "4dbb5599",
   "metadata": {},
   "source": [
    "## The age column is impacted by outliers. The legal age for the company to issue a mobile connection is 18 hence these outliers need to be removed.\n",
    "\n",
    "### Function to calculate the Inter quartile range for quantile values outside 25 to 75 range which can do the outlier capping for lower level with min value and for upper level with 'q3=1.5*iqr' value"
   ]
  },
  {
   "cell_type": "code",
   "execution_count": 53,
   "id": "ca337097",
   "metadata": {},
   "outputs": [],
   "source": [
    "#defining a function to remome outliers.\n",
    "def remove_outlier(df_in, col_name):\n",
    "    q1 = filt_states[col_name].quantile(0.25)\n",
    "    q3 = filt_states[col_name].quantile(0.75)\n",
    "    iqr = q3-q1 \n",
    "    #lower_bound = FiltStates[col_name].min(18)\n",
    "    lower_bound = 18\n",
    "    upper_bound = q3+1.5*iqr\n",
    "    print('Column',col_name,'IQR lower bound and upper bound are', lower_bound, 'and', upper_bound, 'respectively')\n",
    "    df_out = filt_states.loc[(filt_states[col_name] >= lower_bound) & (filt_states[col_name] < upper_bound)]\n",
    "    return df_out\n"
   ]
  },
  {
   "cell_type": "code",
   "execution_count": 54,
   "id": "a50d70e7",
   "metadata": {
    "scrolled": true
   },
   "outputs": [
    {
     "name": "stdout",
     "output_type": "stream",
     "text": [
      "Column age IQR lower bound and upper bound are 18 and 52.5 respectively\n"
     ]
    }
   ],
   "source": [
    " filt_states=remove_outlier(filt_states,\"age\")"
   ]
  },
  {
   "cell_type": "code",
   "execution_count": 55,
   "id": "5e9baa64",
   "metadata": {
    "scrolled": true
   },
   "outputs": [
    {
     "data": {
      "text/html": [
       "<div>\n",
       "<style scoped>\n",
       "    .dataframe tbody tr th:only-of-type {\n",
       "        vertical-align: middle;\n",
       "    }\n",
       "\n",
       "    .dataframe tbody tr th {\n",
       "        vertical-align: top;\n",
       "    }\n",
       "\n",
       "    .dataframe thead th {\n",
       "        text-align: right;\n",
       "    }\n",
       "</style>\n",
       "<table border=\"1\" class=\"dataframe\">\n",
       "  <thead>\n",
       "    <tr style=\"text-align: right;\">\n",
       "      <th></th>\n",
       "      <th>event_id</th>\n",
       "      <th>timestamp</th>\n",
       "      <th>longitude</th>\n",
       "      <th>latitude</th>\n",
       "      <th>city</th>\n",
       "      <th>state</th>\n",
       "      <th>gender</th>\n",
       "      <th>age</th>\n",
       "      <th>new_group</th>\n",
       "      <th>phone_brand</th>\n",
       "      <th>device_model</th>\n",
       "    </tr>\n",
       "    <tr>\n",
       "      <th>device_id</th>\n",
       "      <th></th>\n",
       "      <th></th>\n",
       "      <th></th>\n",
       "      <th></th>\n",
       "      <th></th>\n",
       "      <th></th>\n",
       "      <th></th>\n",
       "      <th></th>\n",
       "      <th></th>\n",
       "      <th></th>\n",
       "      <th></th>\n",
       "    </tr>\n",
       "  </thead>\n",
       "  <tbody>\n",
       "    <tr>\n",
       "      <th>-9221066489596332032</th>\n",
       "      <td>1332672</td>\n",
       "      <td>2016-05-06 09:06:22</td>\n",
       "      <td>76.57</td>\n",
       "      <td>13.34</td>\n",
       "      <td>Tiptur</td>\n",
       "      <td>Karnataka</td>\n",
       "      <td>M</td>\n",
       "      <td>21</td>\n",
       "      <td>(20, 30]</td>\n",
       "      <td>China Mobile</td>\n",
       "      <td>M812C</td>\n",
       "    </tr>\n",
       "    <tr>\n",
       "      <th>-9220830859283100672</th>\n",
       "      <td>727966</td>\n",
       "      <td>2016-05-05 23:16:35</td>\n",
       "      <td>77.61</td>\n",
       "      <td>13.00</td>\n",
       "      <td>Bangalore</td>\n",
       "      <td>Karnataka</td>\n",
       "      <td>M</td>\n",
       "      <td>25</td>\n",
       "      <td>(20, 30]</td>\n",
       "      <td>Xiaomi</td>\n",
       "      <td>红米2</td>\n",
       "    </tr>\n",
       "    <tr>\n",
       "      <th>-9220061629197656064</th>\n",
       "      <td>1058424</td>\n",
       "      <td>2016-05-05 08:03:09</td>\n",
       "      <td>88.41</td>\n",
       "      <td>22.66</td>\n",
       "      <td>Calcutta</td>\n",
       "      <td>WestBengal</td>\n",
       "      <td>M</td>\n",
       "      <td>30</td>\n",
       "      <td>(20, 30]</td>\n",
       "      <td>Samsung</td>\n",
       "      <td>Galaxy Note 3</td>\n",
       "    </tr>\n",
       "    <tr>\n",
       "      <th>-9219269419746273280</th>\n",
       "      <td>2627318</td>\n",
       "      <td>2016-05-05 22:18:17</td>\n",
       "      <td>74.52</td>\n",
       "      <td>15.87</td>\n",
       "      <td>Belgaum</td>\n",
       "      <td>Karnataka</td>\n",
       "      <td>M</td>\n",
       "      <td>34</td>\n",
       "      <td>(30, 40]</td>\n",
       "      <td>唯米</td>\n",
       "      <td>M3</td>\n",
       "    </tr>\n",
       "    <tr>\n",
       "      <th>-9218960997324667904</th>\n",
       "      <td>464136</td>\n",
       "      <td>2016-05-03 15:28:46</td>\n",
       "      <td>88.44</td>\n",
       "      <td>22.58</td>\n",
       "      <td>Calcutta</td>\n",
       "      <td>WestBengal</td>\n",
       "      <td>F</td>\n",
       "      <td>31</td>\n",
       "      <td>(30, 40]</td>\n",
       "      <td>Huawei</td>\n",
       "      <td>G750-T20</td>\n",
       "    </tr>\n",
       "  </tbody>\n",
       "</table>\n",
       "</div>"
      ],
      "text/plain": [
       "                      event_id           timestamp  longitude  latitude  \\\n",
       "device_id                                                                 \n",
       "-9221066489596332032   1332672 2016-05-06 09:06:22      76.57     13.34   \n",
       "-9220830859283100672    727966 2016-05-05 23:16:35      77.61     13.00   \n",
       "-9220061629197656064   1058424 2016-05-05 08:03:09      88.41     22.66   \n",
       "-9219269419746273280   2627318 2016-05-05 22:18:17      74.52     15.87   \n",
       "-9218960997324667904    464136 2016-05-03 15:28:46      88.44     22.58   \n",
       "\n",
       "                           city       state gender  age new_group  \\\n",
       "device_id                                                           \n",
       "-9221066489596332032     Tiptur   Karnataka      M   21  (20, 30]   \n",
       "-9220830859283100672  Bangalore   Karnataka      M   25  (20, 30]   \n",
       "-9220061629197656064   Calcutta  WestBengal      M   30  (20, 30]   \n",
       "-9219269419746273280    Belgaum   Karnataka      M   34  (30, 40]   \n",
       "-9218960997324667904   Calcutta  WestBengal      F   31  (30, 40]   \n",
       "\n",
       "                       phone_brand   device_model  \n",
       "device_id                                          \n",
       "-9221066489596332032  China Mobile          M812C  \n",
       "-9220830859283100672        Xiaomi            红米2  \n",
       "-9220061629197656064       Samsung  Galaxy Note 3  \n",
       "-9219269419746273280            唯米             M3  \n",
       "-9218960997324667904        Huawei       G750-T20  "
      ]
     },
     "execution_count": 55,
     "metadata": {},
     "output_type": "execute_result"
    }
   ],
   "source": [
    "#FiltStates.to_csv('FiltStates_30_Aug2022.csv',index = False)\n",
    "filt_states.head()\n"
   ]
  },
  {
   "cell_type": "code",
   "execution_count": 56,
   "id": "fcc9bb53",
   "metadata": {
    "scrolled": true
   },
   "outputs": [
    {
     "name": "stdout",
     "output_type": "stream",
     "text": [
      "<class 'pandas.core.frame.DataFrame'>\n",
      "Int64Index: 18026 entries, -9221066489596332032 to 9222849349208140800\n",
      "Data columns (total 11 columns):\n",
      " #   Column        Non-Null Count  Dtype         \n",
      "---  ------        --------------  -----         \n",
      " 0   event_id      18026 non-null  int64         \n",
      " 1   timestamp     18026 non-null  datetime64[ns]\n",
      " 2   longitude     18026 non-null  float64       \n",
      " 3   latitude      18026 non-null  float64       \n",
      " 4   city          18026 non-null  object        \n",
      " 5   state         18026 non-null  object        \n",
      " 6   gender        18026 non-null  object        \n",
      " 7   age           18026 non-null  int64         \n",
      " 8   new_group     18026 non-null  category      \n",
      " 9   phone_brand   18026 non-null  object        \n",
      " 10  device_model  18026 non-null  object        \n",
      "dtypes: category(1), datetime64[ns](1), float64(2), int64(2), object(5)\n",
      "memory usage: 1.5+ MB\n"
     ]
    }
   ],
   "source": [
    "filt_states.info()\n"
   ]
  },
  {
   "cell_type": "code",
   "execution_count": 57,
   "id": "05021471",
   "metadata": {
    "scrolled": false
   },
   "outputs": [
    {
     "data": {
      "text/html": [
       "<div>\n",
       "<style scoped>\n",
       "    .dataframe tbody tr th:only-of-type {\n",
       "        vertical-align: middle;\n",
       "    }\n",
       "\n",
       "    .dataframe tbody tr th {\n",
       "        vertical-align: top;\n",
       "    }\n",
       "\n",
       "    .dataframe thead th {\n",
       "        text-align: right;\n",
       "    }\n",
       "</style>\n",
       "<table border=\"1\" class=\"dataframe\">\n",
       "  <thead>\n",
       "    <tr style=\"text-align: right;\">\n",
       "      <th></th>\n",
       "      <th>event_id</th>\n",
       "      <th>longitude</th>\n",
       "      <th>latitude</th>\n",
       "      <th>age</th>\n",
       "    </tr>\n",
       "  </thead>\n",
       "  <tbody>\n",
       "    <tr>\n",
       "      <th>count</th>\n",
       "      <td>18026.00</td>\n",
       "      <td>18026.00</td>\n",
       "      <td>18026.00</td>\n",
       "      <td>18026.00</td>\n",
       "    </tr>\n",
       "    <tr>\n",
       "      <th>mean</th>\n",
       "      <td>1576925.86</td>\n",
       "      <td>81.54</td>\n",
       "      <td>19.69</td>\n",
       "      <td>30.33</td>\n",
       "    </tr>\n",
       "    <tr>\n",
       "      <th>std</th>\n",
       "      <td>946973.71</td>\n",
       "      <td>6.15</td>\n",
       "      <td>5.73</td>\n",
       "      <td>7.72</td>\n",
       "    </tr>\n",
       "    <tr>\n",
       "      <th>min</th>\n",
       "      <td>21638.00</td>\n",
       "      <td>69.61</td>\n",
       "      <td>8.41</td>\n",
       "      <td>18.00</td>\n",
       "    </tr>\n",
       "    <tr>\n",
       "      <th>25%</th>\n",
       "      <td>705455.00</td>\n",
       "      <td>76.84</td>\n",
       "      <td>13.05</td>\n",
       "      <td>25.00</td>\n",
       "    </tr>\n",
       "    <tr>\n",
       "      <th>50%</th>\n",
       "      <td>1552430.50</td>\n",
       "      <td>77.65</td>\n",
       "      <td>22.59</td>\n",
       "      <td>29.00</td>\n",
       "    </tr>\n",
       "    <tr>\n",
       "      <th>75%</th>\n",
       "      <td>2400298.00</td>\n",
       "      <td>88.40</td>\n",
       "      <td>22.87</td>\n",
       "      <td>35.00</td>\n",
       "    </tr>\n",
       "    <tr>\n",
       "      <th>max</th>\n",
       "      <td>3252895.00</td>\n",
       "      <td>89.62</td>\n",
       "      <td>32.37</td>\n",
       "      <td>52.00</td>\n",
       "    </tr>\n",
       "  </tbody>\n",
       "</table>\n",
       "</div>"
      ],
      "text/plain": [
       "        event_id  longitude  latitude      age\n",
       "count   18026.00   18026.00  18026.00 18026.00\n",
       "mean  1576925.86      81.54     19.69    30.33\n",
       "std    946973.71       6.15      5.73     7.72\n",
       "min     21638.00      69.61      8.41    18.00\n",
       "25%    705455.00      76.84     13.05    25.00\n",
       "50%   1552430.50      77.65     22.59    29.00\n",
       "75%   2400298.00      88.40     22.87    35.00\n",
       "max   3252895.00      89.62     32.37    52.00"
      ]
     },
     "execution_count": 57,
     "metadata": {},
     "output_type": "execute_result"
    }
   ],
   "source": [
    "filt_states.describe()\n"
   ]
  },
  {
   "cell_type": "code",
   "execution_count": 58,
   "id": "8a5fd27a",
   "metadata": {},
   "outputs": [
    {
     "data": {
      "text/plain": [
       "Xiaomi     4491\n",
       "Samsung    3902\n",
       "Huawei     3145\n",
       "vivo       1585\n",
       "OPPO       1321\n",
       "Meizu      1151\n",
       "Coolpad     794\n",
       "HTC         281\n",
       "Lenovo      209\n",
       "LeEco       162\n",
       "Name: phone_brand, dtype: int64"
      ]
     },
     "execution_count": 58,
     "metadata": {},
     "output_type": "execute_result"
    }
   ],
   "source": [
    "filt_states[\"phone_brand\"].value_counts().nlargest(10)"
   ]
  },
  {
   "cell_type": "code",
   "execution_count": 59,
   "id": "ad8aa474",
   "metadata": {
    "scrolled": true
   },
   "outputs": [
    {
     "data": {
      "text/html": [
       "<div>\n",
       "<style scoped>\n",
       "    .dataframe tbody tr th:only-of-type {\n",
       "        vertical-align: middle;\n",
       "    }\n",
       "\n",
       "    .dataframe tbody tr th {\n",
       "        vertical-align: top;\n",
       "    }\n",
       "\n",
       "    .dataframe thead th {\n",
       "        text-align: right;\n",
       "    }\n",
       "</style>\n",
       "<table border=\"1\" class=\"dataframe\">\n",
       "  <thead>\n",
       "    <tr style=\"text-align: right;\">\n",
       "      <th></th>\n",
       "      <th>event_id</th>\n",
       "      <th>timestamp</th>\n",
       "      <th>longitude</th>\n",
       "      <th>latitude</th>\n",
       "      <th>city</th>\n",
       "      <th>state</th>\n",
       "      <th>gender</th>\n",
       "      <th>age</th>\n",
       "      <th>new_group</th>\n",
       "      <th>phone_brand</th>\n",
       "      <th>device_model</th>\n",
       "    </tr>\n",
       "    <tr>\n",
       "      <th>device_id</th>\n",
       "      <th></th>\n",
       "      <th></th>\n",
       "      <th></th>\n",
       "      <th></th>\n",
       "      <th></th>\n",
       "      <th></th>\n",
       "      <th></th>\n",
       "      <th></th>\n",
       "      <th></th>\n",
       "      <th></th>\n",
       "      <th></th>\n",
       "    </tr>\n",
       "  </thead>\n",
       "  <tbody>\n",
       "    <tr>\n",
       "      <th>-9221066489596332032</th>\n",
       "      <td>1332672</td>\n",
       "      <td>2016-05-06 09:06:22</td>\n",
       "      <td>76.57</td>\n",
       "      <td>13.34</td>\n",
       "      <td>Tiptur</td>\n",
       "      <td>Karnataka</td>\n",
       "      <td>M</td>\n",
       "      <td>21</td>\n",
       "      <td>(20, 30]</td>\n",
       "      <td>China Mobile</td>\n",
       "      <td>M812C</td>\n",
       "    </tr>\n",
       "    <tr>\n",
       "      <th>-9220830859283100672</th>\n",
       "      <td>727966</td>\n",
       "      <td>2016-05-05 23:16:35</td>\n",
       "      <td>77.61</td>\n",
       "      <td>13.00</td>\n",
       "      <td>Bangalore</td>\n",
       "      <td>Karnataka</td>\n",
       "      <td>M</td>\n",
       "      <td>25</td>\n",
       "      <td>(20, 30]</td>\n",
       "      <td>Xiaomi</td>\n",
       "      <td>红米2</td>\n",
       "    </tr>\n",
       "    <tr>\n",
       "      <th>-9220061629197656064</th>\n",
       "      <td>1058424</td>\n",
       "      <td>2016-05-05 08:03:09</td>\n",
       "      <td>88.41</td>\n",
       "      <td>22.66</td>\n",
       "      <td>Calcutta</td>\n",
       "      <td>WestBengal</td>\n",
       "      <td>M</td>\n",
       "      <td>30</td>\n",
       "      <td>(20, 30]</td>\n",
       "      <td>Samsung</td>\n",
       "      <td>Galaxy Note 3</td>\n",
       "    </tr>\n",
       "    <tr>\n",
       "      <th>-9219269419746273280</th>\n",
       "      <td>2627318</td>\n",
       "      <td>2016-05-05 22:18:17</td>\n",
       "      <td>74.52</td>\n",
       "      <td>15.87</td>\n",
       "      <td>Belgaum</td>\n",
       "      <td>Karnataka</td>\n",
       "      <td>M</td>\n",
       "      <td>34</td>\n",
       "      <td>(30, 40]</td>\n",
       "      <td>唯米</td>\n",
       "      <td>M3</td>\n",
       "    </tr>\n",
       "    <tr>\n",
       "      <th>-9218960997324667904</th>\n",
       "      <td>464136</td>\n",
       "      <td>2016-05-03 15:28:46</td>\n",
       "      <td>88.44</td>\n",
       "      <td>22.58</td>\n",
       "      <td>Calcutta</td>\n",
       "      <td>WestBengal</td>\n",
       "      <td>F</td>\n",
       "      <td>31</td>\n",
       "      <td>(30, 40]</td>\n",
       "      <td>Huawei</td>\n",
       "      <td>G750-T20</td>\n",
       "    </tr>\n",
       "  </tbody>\n",
       "</table>\n",
       "</div>"
      ],
      "text/plain": [
       "                      event_id           timestamp  longitude  latitude  \\\n",
       "device_id                                                                 \n",
       "-9221066489596332032   1332672 2016-05-06 09:06:22      76.57     13.34   \n",
       "-9220830859283100672    727966 2016-05-05 23:16:35      77.61     13.00   \n",
       "-9220061629197656064   1058424 2016-05-05 08:03:09      88.41     22.66   \n",
       "-9219269419746273280   2627318 2016-05-05 22:18:17      74.52     15.87   \n",
       "-9218960997324667904    464136 2016-05-03 15:28:46      88.44     22.58   \n",
       "\n",
       "                           city       state gender  age new_group  \\\n",
       "device_id                                                           \n",
       "-9221066489596332032     Tiptur   Karnataka      M   21  (20, 30]   \n",
       "-9220830859283100672  Bangalore   Karnataka      M   25  (20, 30]   \n",
       "-9220061629197656064   Calcutta  WestBengal      M   30  (20, 30]   \n",
       "-9219269419746273280    Belgaum   Karnataka      M   34  (30, 40]   \n",
       "-9218960997324667904   Calcutta  WestBengal      F   31  (30, 40]   \n",
       "\n",
       "                       phone_brand   device_model  \n",
       "device_id                                          \n",
       "-9221066489596332032  China Mobile          M812C  \n",
       "-9220830859283100672        Xiaomi            红米2  \n",
       "-9220061629197656064       Samsung  Galaxy Note 3  \n",
       "-9219269419746273280            唯米             M3  \n",
       "-9218960997324667904        Huawei       G750-T20  "
      ]
     },
     "execution_count": 59,
     "metadata": {},
     "output_type": "execute_result"
    }
   ],
   "source": [
    "#FiltStates.to_csv('FiltStates_Capstone_1014.csv',index = False)\n",
    "filt_states.head()"
   ]
  },
  {
   "cell_type": "code",
   "execution_count": 60,
   "id": "dbcb5113",
   "metadata": {
    "scrolled": true
   },
   "outputs": [
    {
     "data": {
      "text/html": [
       "<div>\n",
       "<style scoped>\n",
       "    .dataframe tbody tr th:only-of-type {\n",
       "        vertical-align: middle;\n",
       "    }\n",
       "\n",
       "    .dataframe tbody tr th {\n",
       "        vertical-align: top;\n",
       "    }\n",
       "\n",
       "    .dataframe thead th {\n",
       "        text-align: right;\n",
       "    }\n",
       "</style>\n",
       "<table border=\"1\" class=\"dataframe\">\n",
       "  <thead>\n",
       "    <tr style=\"text-align: right;\">\n",
       "      <th></th>\n",
       "      <th>device_id</th>\n",
       "      <th>event_id</th>\n",
       "      <th>timestamp</th>\n",
       "      <th>longitude</th>\n",
       "      <th>latitude</th>\n",
       "      <th>city</th>\n",
       "      <th>state</th>\n",
       "      <th>gender</th>\n",
       "      <th>age</th>\n",
       "      <th>new_group</th>\n",
       "      <th>phone_brand</th>\n",
       "      <th>device_model</th>\n",
       "    </tr>\n",
       "  </thead>\n",
       "  <tbody>\n",
       "    <tr>\n",
       "      <th>0</th>\n",
       "      <td>-9221066489596332032</td>\n",
       "      <td>1332672</td>\n",
       "      <td>2016-05-06 09:06:22</td>\n",
       "      <td>76.57</td>\n",
       "      <td>13.34</td>\n",
       "      <td>Tiptur</td>\n",
       "      <td>Karnataka</td>\n",
       "      <td>M</td>\n",
       "      <td>21</td>\n",
       "      <td>(20, 30]</td>\n",
       "      <td>China Mobile</td>\n",
       "      <td>M812C</td>\n",
       "    </tr>\n",
       "    <tr>\n",
       "      <th>1</th>\n",
       "      <td>-9220830859283100672</td>\n",
       "      <td>727966</td>\n",
       "      <td>2016-05-05 23:16:35</td>\n",
       "      <td>77.61</td>\n",
       "      <td>13.00</td>\n",
       "      <td>Bangalore</td>\n",
       "      <td>Karnataka</td>\n",
       "      <td>M</td>\n",
       "      <td>25</td>\n",
       "      <td>(20, 30]</td>\n",
       "      <td>Xiaomi</td>\n",
       "      <td>红米2</td>\n",
       "    </tr>\n",
       "    <tr>\n",
       "      <th>2</th>\n",
       "      <td>-9220061629197656064</td>\n",
       "      <td>1058424</td>\n",
       "      <td>2016-05-05 08:03:09</td>\n",
       "      <td>88.41</td>\n",
       "      <td>22.66</td>\n",
       "      <td>Calcutta</td>\n",
       "      <td>WestBengal</td>\n",
       "      <td>M</td>\n",
       "      <td>30</td>\n",
       "      <td>(20, 30]</td>\n",
       "      <td>Samsung</td>\n",
       "      <td>Galaxy Note 3</td>\n",
       "    </tr>\n",
       "    <tr>\n",
       "      <th>3</th>\n",
       "      <td>-9219269419746273280</td>\n",
       "      <td>2627318</td>\n",
       "      <td>2016-05-05 22:18:17</td>\n",
       "      <td>74.52</td>\n",
       "      <td>15.87</td>\n",
       "      <td>Belgaum</td>\n",
       "      <td>Karnataka</td>\n",
       "      <td>M</td>\n",
       "      <td>34</td>\n",
       "      <td>(30, 40]</td>\n",
       "      <td>唯米</td>\n",
       "      <td>M3</td>\n",
       "    </tr>\n",
       "    <tr>\n",
       "      <th>4</th>\n",
       "      <td>-9218960997324667904</td>\n",
       "      <td>464136</td>\n",
       "      <td>2016-05-03 15:28:46</td>\n",
       "      <td>88.44</td>\n",
       "      <td>22.58</td>\n",
       "      <td>Calcutta</td>\n",
       "      <td>WestBengal</td>\n",
       "      <td>F</td>\n",
       "      <td>31</td>\n",
       "      <td>(30, 40]</td>\n",
       "      <td>Huawei</td>\n",
       "      <td>G750-T20</td>\n",
       "    </tr>\n",
       "  </tbody>\n",
       "</table>\n",
       "</div>"
      ],
      "text/plain": [
       "             device_id  event_id           timestamp  longitude  latitude  \\\n",
       "0 -9221066489596332032   1332672 2016-05-06 09:06:22      76.57     13.34   \n",
       "1 -9220830859283100672    727966 2016-05-05 23:16:35      77.61     13.00   \n",
       "2 -9220061629197656064   1058424 2016-05-05 08:03:09      88.41     22.66   \n",
       "3 -9219269419746273280   2627318 2016-05-05 22:18:17      74.52     15.87   \n",
       "4 -9218960997324667904    464136 2016-05-03 15:28:46      88.44     22.58   \n",
       "\n",
       "        city       state gender  age new_group   phone_brand   device_model  \n",
       "0     Tiptur   Karnataka      M   21  (20, 30]  China Mobile          M812C  \n",
       "1  Bangalore   Karnataka      M   25  (20, 30]        Xiaomi            红米2  \n",
       "2   Calcutta  WestBengal      M   30  (20, 30]       Samsung  Galaxy Note 3  \n",
       "3    Belgaum   Karnataka      M   34  (30, 40]            唯米             M3  \n",
       "4   Calcutta  WestBengal      F   31  (30, 40]        Huawei       G750-T20  "
      ]
     },
     "execution_count": 60,
     "metadata": {},
     "output_type": "execute_result"
    }
   ],
   "source": [
    "#resetting Index\n",
    "filt_states.reset_index(inplace=True)\n",
    "filt_states.head()\n"
   ]
  },
  {
   "cell_type": "code",
   "execution_count": 61,
   "id": "09becbd3",
   "metadata": {
    "scrolled": false
   },
   "outputs": [
    {
     "data": {
      "text/html": [
       "<div>\n",
       "<style scoped>\n",
       "    .dataframe tbody tr th:only-of-type {\n",
       "        vertical-align: middle;\n",
       "    }\n",
       "\n",
       "    .dataframe tbody tr th {\n",
       "        vertical-align: top;\n",
       "    }\n",
       "\n",
       "    .dataframe thead th {\n",
       "        text-align: right;\n",
       "    }\n",
       "</style>\n",
       "<table border=\"1\" class=\"dataframe\">\n",
       "  <thead>\n",
       "    <tr style=\"text-align: right;\">\n",
       "      <th></th>\n",
       "      <th>device_id</th>\n",
       "      <th>event_id</th>\n",
       "      <th>timestamp</th>\n",
       "      <th>longitude</th>\n",
       "      <th>latitude</th>\n",
       "      <th>city</th>\n",
       "      <th>state</th>\n",
       "      <th>gender</th>\n",
       "      <th>age</th>\n",
       "      <th>new_group</th>\n",
       "      <th>phone_brand</th>\n",
       "      <th>device_model</th>\n",
       "    </tr>\n",
       "  </thead>\n",
       "  <tbody>\n",
       "    <tr>\n",
       "      <th>0</th>\n",
       "      <td>-9221066489596332032</td>\n",
       "      <td>1332672</td>\n",
       "      <td>2016-05-06 09:06:22</td>\n",
       "      <td>76.57</td>\n",
       "      <td>13.34</td>\n",
       "      <td>Tiptur</td>\n",
       "      <td>Karnataka</td>\n",
       "      <td>M</td>\n",
       "      <td>21</td>\n",
       "      <td>(20, 30]</td>\n",
       "      <td>China Mobile</td>\n",
       "      <td>M812C</td>\n",
       "    </tr>\n",
       "    <tr>\n",
       "      <th>1</th>\n",
       "      <td>-9220830859283100672</td>\n",
       "      <td>727966</td>\n",
       "      <td>2016-05-05 23:16:35</td>\n",
       "      <td>77.61</td>\n",
       "      <td>13.00</td>\n",
       "      <td>Bangalore</td>\n",
       "      <td>Karnataka</td>\n",
       "      <td>M</td>\n",
       "      <td>25</td>\n",
       "      <td>(20, 30]</td>\n",
       "      <td>Xiaomi</td>\n",
       "      <td>红米2</td>\n",
       "    </tr>\n",
       "    <tr>\n",
       "      <th>2</th>\n",
       "      <td>-9220061629197656064</td>\n",
       "      <td>1058424</td>\n",
       "      <td>2016-05-05 08:03:09</td>\n",
       "      <td>88.41</td>\n",
       "      <td>22.66</td>\n",
       "      <td>Calcutta</td>\n",
       "      <td>WestBengal</td>\n",
       "      <td>M</td>\n",
       "      <td>30</td>\n",
       "      <td>(20, 30]</td>\n",
       "      <td>Samsung</td>\n",
       "      <td>Galaxy Note 3</td>\n",
       "    </tr>\n",
       "    <tr>\n",
       "      <th>3</th>\n",
       "      <td>-9219269419746273280</td>\n",
       "      <td>2627318</td>\n",
       "      <td>2016-05-05 22:18:17</td>\n",
       "      <td>74.52</td>\n",
       "      <td>15.87</td>\n",
       "      <td>Belgaum</td>\n",
       "      <td>Karnataka</td>\n",
       "      <td>M</td>\n",
       "      <td>34</td>\n",
       "      <td>(30, 40]</td>\n",
       "      <td>唯米</td>\n",
       "      <td>M3</td>\n",
       "    </tr>\n",
       "    <tr>\n",
       "      <th>4</th>\n",
       "      <td>-9218960997324667904</td>\n",
       "      <td>464136</td>\n",
       "      <td>2016-05-03 15:28:46</td>\n",
       "      <td>88.44</td>\n",
       "      <td>22.58</td>\n",
       "      <td>Calcutta</td>\n",
       "      <td>WestBengal</td>\n",
       "      <td>F</td>\n",
       "      <td>31</td>\n",
       "      <td>(30, 40]</td>\n",
       "      <td>Huawei</td>\n",
       "      <td>G750-T20</td>\n",
       "    </tr>\n",
       "  </tbody>\n",
       "</table>\n",
       "</div>"
      ],
      "text/plain": [
       "             device_id  event_id           timestamp  longitude  latitude  \\\n",
       "0 -9221066489596332032   1332672 2016-05-06 09:06:22      76.57     13.34   \n",
       "1 -9220830859283100672    727966 2016-05-05 23:16:35      77.61     13.00   \n",
       "2 -9220061629197656064   1058424 2016-05-05 08:03:09      88.41     22.66   \n",
       "3 -9219269419746273280   2627318 2016-05-05 22:18:17      74.52     15.87   \n",
       "4 -9218960997324667904    464136 2016-05-03 15:28:46      88.44     22.58   \n",
       "\n",
       "        city       state gender  age new_group   phone_brand   device_model  \n",
       "0     Tiptur   Karnataka      M   21  (20, 30]  China Mobile          M812C  \n",
       "1  Bangalore   Karnataka      M   25  (20, 30]        Xiaomi            红米2  \n",
       "2   Calcutta  WestBengal      M   30  (20, 30]       Samsung  Galaxy Note 3  \n",
       "3    Belgaum   Karnataka      M   34  (30, 40]            唯米             M3  \n",
       "4   Calcutta  WestBengal      F   31  (30, 40]        Huawei       G750-T20  "
      ]
     },
     "execution_count": 61,
     "metadata": {},
     "output_type": "execute_result"
    }
   ],
   "source": [
    "filt_states.head()\n"
   ]
  },
  {
   "cell_type": "markdown",
   "id": "a12461f1",
   "metadata": {},
   "source": [
    "## File is ready to be exported to be analysed using streamlit app & EDA"
   ]
  },
  {
   "cell_type": "code",
   "execution_count": 62,
   "id": "02a612e8",
   "metadata": {},
   "outputs": [],
   "source": [
    "#filt_states.to_csv('filt_states_Capstone_1014_02Sep2022.csv',index= False)"
   ]
  },
  {
   "cell_type": "code",
   "execution_count": 63,
   "id": "a5b25ab0",
   "metadata": {},
   "outputs": [
    {
     "data": {
      "text/html": [
       "<div>\n",
       "<style scoped>\n",
       "    .dataframe tbody tr th:only-of-type {\n",
       "        vertical-align: middle;\n",
       "    }\n",
       "\n",
       "    .dataframe tbody tr th {\n",
       "        vertical-align: top;\n",
       "    }\n",
       "\n",
       "    .dataframe thead th {\n",
       "        text-align: right;\n",
       "    }\n",
       "</style>\n",
       "<table border=\"1\" class=\"dataframe\">\n",
       "  <thead>\n",
       "    <tr style=\"text-align: right;\">\n",
       "      <th></th>\n",
       "      <th>device_id</th>\n",
       "      <th>event_id</th>\n",
       "      <th>timestamp</th>\n",
       "      <th>longitude</th>\n",
       "      <th>latitude</th>\n",
       "      <th>city</th>\n",
       "      <th>state</th>\n",
       "      <th>gender</th>\n",
       "      <th>age</th>\n",
       "      <th>new_group</th>\n",
       "      <th>phone_brand</th>\n",
       "      <th>device_model</th>\n",
       "    </tr>\n",
       "  </thead>\n",
       "  <tbody>\n",
       "    <tr>\n",
       "      <th>0</th>\n",
       "      <td>-9221066489596332032</td>\n",
       "      <td>1332672</td>\n",
       "      <td>2016-05-06 09:06:22</td>\n",
       "      <td>76.57</td>\n",
       "      <td>13.34</td>\n",
       "      <td>Tiptur</td>\n",
       "      <td>Karnataka</td>\n",
       "      <td>M</td>\n",
       "      <td>21</td>\n",
       "      <td>(20, 30]</td>\n",
       "      <td>China Mobile</td>\n",
       "      <td>M812C</td>\n",
       "    </tr>\n",
       "    <tr>\n",
       "      <th>1</th>\n",
       "      <td>-9220830859283100672</td>\n",
       "      <td>727966</td>\n",
       "      <td>2016-05-05 23:16:35</td>\n",
       "      <td>77.61</td>\n",
       "      <td>13.00</td>\n",
       "      <td>Bangalore</td>\n",
       "      <td>Karnataka</td>\n",
       "      <td>M</td>\n",
       "      <td>25</td>\n",
       "      <td>(20, 30]</td>\n",
       "      <td>Xiaomi</td>\n",
       "      <td>红米2</td>\n",
       "    </tr>\n",
       "    <tr>\n",
       "      <th>2</th>\n",
       "      <td>-9220061629197656064</td>\n",
       "      <td>1058424</td>\n",
       "      <td>2016-05-05 08:03:09</td>\n",
       "      <td>88.41</td>\n",
       "      <td>22.66</td>\n",
       "      <td>Calcutta</td>\n",
       "      <td>WestBengal</td>\n",
       "      <td>M</td>\n",
       "      <td>30</td>\n",
       "      <td>(20, 30]</td>\n",
       "      <td>Samsung</td>\n",
       "      <td>Galaxy Note 3</td>\n",
       "    </tr>\n",
       "    <tr>\n",
       "      <th>3</th>\n",
       "      <td>-9219269419746273280</td>\n",
       "      <td>2627318</td>\n",
       "      <td>2016-05-05 22:18:17</td>\n",
       "      <td>74.52</td>\n",
       "      <td>15.87</td>\n",
       "      <td>Belgaum</td>\n",
       "      <td>Karnataka</td>\n",
       "      <td>M</td>\n",
       "      <td>34</td>\n",
       "      <td>(30, 40]</td>\n",
       "      <td>唯米</td>\n",
       "      <td>M3</td>\n",
       "    </tr>\n",
       "    <tr>\n",
       "      <th>4</th>\n",
       "      <td>-9218960997324667904</td>\n",
       "      <td>464136</td>\n",
       "      <td>2016-05-03 15:28:46</td>\n",
       "      <td>88.44</td>\n",
       "      <td>22.58</td>\n",
       "      <td>Calcutta</td>\n",
       "      <td>WestBengal</td>\n",
       "      <td>F</td>\n",
       "      <td>31</td>\n",
       "      <td>(30, 40]</td>\n",
       "      <td>Huawei</td>\n",
       "      <td>G750-T20</td>\n",
       "    </tr>\n",
       "  </tbody>\n",
       "</table>\n",
       "</div>"
      ],
      "text/plain": [
       "             device_id  event_id           timestamp  longitude  latitude  \\\n",
       "0 -9221066489596332032   1332672 2016-05-06 09:06:22      76.57     13.34   \n",
       "1 -9220830859283100672    727966 2016-05-05 23:16:35      77.61     13.00   \n",
       "2 -9220061629197656064   1058424 2016-05-05 08:03:09      88.41     22.66   \n",
       "3 -9219269419746273280   2627318 2016-05-05 22:18:17      74.52     15.87   \n",
       "4 -9218960997324667904    464136 2016-05-03 15:28:46      88.44     22.58   \n",
       "\n",
       "        city       state gender  age new_group   phone_brand   device_model  \n",
       "0     Tiptur   Karnataka      M   21  (20, 30]  China Mobile          M812C  \n",
       "1  Bangalore   Karnataka      M   25  (20, 30]        Xiaomi            红米2  \n",
       "2   Calcutta  WestBengal      M   30  (20, 30]       Samsung  Galaxy Note 3  \n",
       "3    Belgaum   Karnataka      M   34  (30, 40]            唯米             M3  \n",
       "4   Calcutta  WestBengal      F   31  (30, 40]        Huawei       G750-T20  "
      ]
     },
     "execution_count": 63,
     "metadata": {},
     "output_type": "execute_result"
    }
   ],
   "source": [
    "filt_states.head()"
   ]
  },
  {
   "cell_type": "markdown",
   "id": "9e67f394",
   "metadata": {},
   "source": [
    "# _______________________________\n",
    "\n"
   ]
  },
  {
   "cell_type": "markdown",
   "id": "91376c3e",
   "metadata": {},
   "source": [
    "<a name = Section17></a>\n",
    "## **8. Exploratory Data Analysis**"
   ]
  },
  {
   "cell_type": "code",
   "execution_count": 64,
   "id": "5af4f66a",
   "metadata": {},
   "outputs": [],
   "source": [
    "df = filt_states.copy()\n"
   ]
  },
  {
   "cell_type": "markdown",
   "id": "a9d8c281",
   "metadata": {},
   "source": [
    "## The team decided that following questions needed to be answered:\n",
    "\n",
    "- Distribution of Users(device_id) across States\n",
    "- Distribution of Users across Phone Brands(Consider only 10 Most used Phone Brands)\n",
    "- Distribution of Users across Gender\n",
    "- Distribution of Users across Age Segments\n",
    "- Distribution of Phone Brands(Consider only the 10 Most used Phone Brands) for each Age Segment, State, and Gender\n",
    "- Distribution of Gender for each State, Age Segment and Phone Brand(Consider only the 10 Most used Phone Brands)\n",
    "- Distribution of Age Segments for each State, Gender and Phone Brand(Consider only the 10 Most used Phone Brands)\n",
    "  - **Note**: While doing analysis for the above points, we considered only one instance of a particular User(device_id) as a User can do multiple phone calls and considering every instance of the same User can give misleading numbers\n",
    "- Hourly distribution of Phone Calls\n",
    "- Plot the Users on the Map using any suitable package"
   ]
  },
  {
   "cell_type": "markdown",
   "id": "83ee7553",
   "metadata": {},
   "source": [
    "<a name = Section18></a>\n",
    "### **Distribution of Users (device_id) Across Target States**"
   ]
  },
  {
   "cell_type": "code",
   "execution_count": 65,
   "id": "fcc37aef",
   "metadata": {},
   "outputs": [
    {
     "data": {
      "text/plain": [
       "<AxesSubplot:xlabel='Count', ylabel='state'>"
      ]
     },
     "execution_count": 65,
     "metadata": {},
     "output_type": "execute_result"
    },
    {
     "data": {
      "image/png": "[encoded data removed]",
      "text/plain": [
       "<Figure size 432x288 with 1 Axes>"
      ]
     },
     "metadata": {
      "needs_background": "light"
     },
     "output_type": "display_data"
    }
   ],
   "source": [
    "sns.histplot(data=df,y=df['state'],shrink=.8)"
   ]
  },
  {
   "cell_type": "markdown",
   "id": "268256d7",
   "metadata": {},
   "source": [
    "-\tOver 73% of the customers in the relevant data set belong to two states of West Bengal & Karnataka"
   ]
  },
  {
   "cell_type": "markdown",
   "id": "eb13ae81",
   "metadata": {},
   "source": [
    "<a name = Section19></a>\n",
    "### **Distribution of Users across Phone Brands(Consider only 10 Most used Phone Brands).**"
   ]
  },
  {
   "cell_type": "code",
   "execution_count": 66,
   "id": "42f7200f",
   "metadata": {
    "scrolled": true
   },
   "outputs": [
    {
     "data": {
      "text/plain": [
       "Xiaomi     4491\n",
       "Samsung    3902\n",
       "Huawei     3145\n",
       "vivo       1585\n",
       "OPPO       1321\n",
       "Meizu      1151\n",
       "Coolpad     794\n",
       "HTC         281\n",
       "Lenovo      209\n",
       "LeEco       162\n",
       "Name: phone_brand, dtype: int64"
      ]
     },
     "execution_count": 66,
     "metadata": {},
     "output_type": "execute_result"
    }
   ],
   "source": [
    "\n",
    "PhBrds = df['phone_brand'].value_counts().nlargest(10).index[:]\n",
    "UsrPhn = df[df['phone_brand'].isin(PhBrds)]\n",
    "UsrPhn['phone_brand'].value_counts()\n",
    "\n",
    "#resultSeries= df.groupby('phone_brand')['device_id'].count().nlargest(10)\n",
    "#ph_br_T10 = resultSeries.to_frame();\n",
    "#ph_br_T10 ['phone_brand'] = ph_br_T10.index\n",
    "#ph_br_T10 .head(10)"
   ]
  },
  {
   "cell_type": "code",
   "execution_count": 67,
   "id": "552789bf",
   "metadata": {
    "scrolled": true
   },
   "outputs": [
    {
     "data": {
      "text/plain": [
       "<AxesSubplot:>"
      ]
     },
     "execution_count": 67,
     "metadata": {},
     "output_type": "execute_result"
    },
    {
     "data": {
      "image/png": "[encoded data removed]",
      "text/plain": [
       "<Figure size 432x288 with 1 Axes>"
      ]
     },
     "metadata": {
      "needs_background": "light"
     },
     "output_type": "display_data"
    }
   ],
   "source": [
    "df[\"phone_brand\"].value_counts()[0:10].plot.bar()"
   ]
  },
  {
   "cell_type": "markdown",
   "id": "8955dfa6",
   "metadata": {},
   "source": [
    "- The most popular Phone Brand is Xiaomi followed by Samsung"
   ]
  },
  {
   "cell_type": "markdown",
   "id": "c821810a",
   "metadata": {},
   "source": [
    "<a name = Section20></a>\n",
    "### **Distribution of Users across Gender**"
   ]
  },
  {
   "cell_type": "code",
   "execution_count": 68,
   "id": "3b679c3b",
   "metadata": {
    "scrolled": true
   },
   "outputs": [
    {
     "data": {
      "text/plain": [
       "<AxesSubplot:>"
      ]
     },
     "execution_count": 68,
     "metadata": {},
     "output_type": "execute_result"
    },
    {
     "data": {
      "image/png": "[encoded data removed]",
      "text/plain": [
       "<Figure size 432x288 with 1 Axes>"
      ]
     },
     "metadata": {
      "needs_background": "light"
     },
     "output_type": "display_data"
    }
   ],
   "source": [
    "df[\"gender\"].value_counts().plot.bar()\n"
   ]
  },
  {
   "cell_type": "code",
   "execution_count": 69,
   "id": "d96c9aad",
   "metadata": {},
   "outputs": [
    {
     "data": {
      "image/png": "[encoded data removed]",
      "text/plain": [
       "<Figure size 1080x504 with 1 Axes>"
      ]
     },
     "metadata": {},
     "output_type": "display_data"
    }
   ],
   "source": [
    "#df[\"gender\"].value_counts().plot.pie()\n",
    "plt.figure(figsize=(15,7))\n",
    "\n",
    "exp = (0.05, 0.05)\n",
    "df[\"gender\"].value_counts().plot.pie(title = \"User Distribution across Gender\", autopct=\"%.1f%%\",explode = exp)\n",
    "\n",
    "plt.show()"
   ]
  },
  {
   "cell_type": "markdown",
   "id": "835a503d",
   "metadata": {},
   "source": [
    "-\tThe gender distribution (Male/Female) is distinctly in favour of Males by 26%"
   ]
  },
  {
   "cell_type": "markdown",
   "id": "3cb0de30",
   "metadata": {},
   "source": [
    "<a name = Section21></a>\n",
    "### **Distribution of Users across Age Segments**"
   ]
  },
  {
   "cell_type": "code",
   "execution_count": 70,
   "id": "d7f333db",
   "metadata": {
    "scrolled": true
   },
   "outputs": [
    {
     "data": {
      "text/plain": [
       "(array([0, 1, 2, 3, 4, 5, 6, 7, 8, 9]),\n",
       " [Text(0, 0, '(20, 30]'),\n",
       "  Text(1, 0, '(30, 40]'),\n",
       "  Text(2, 0, '(40, 50]'),\n",
       "  Text(3, 0, '(10, 20]'),\n",
       "  Text(4, 0, '(50, 60]'),\n",
       "  Text(5, 0, '(0, 10]'),\n",
       "  Text(6, 0, '(60, 70]'),\n",
       "  Text(7, 0, '(70, 80]'),\n",
       "  Text(8, 0, '(80, 90]'),\n",
       "  Text(9, 0, '(90, 100]')])"
      ]
     },
     "execution_count": 70,
     "metadata": {},
     "output_type": "execute_result"
    },
    {
     "data": {
      "image/png": "[encoded data removed]",
      "text/plain": [
       "<Figure size 720x504 with 1 Axes>"
      ]
     },
     "metadata": {
      "needs_background": "light"
     },
     "output_type": "display_data"
    }
   ],
   "source": [
    "plt.figure(figsize=(10,7))\n",
    "df[\"new_group\"].value_counts().plot.bar()\n",
    "plt.xticks(rotation=45)"
   ]
  },
  {
   "cell_type": "code",
   "execution_count": 71,
   "id": "2ae6f1d2",
   "metadata": {},
   "outputs": [
    {
     "data": {
      "text/plain": [
       "(20, 30]     9458\n",
       "(30, 40]     5074\n",
       "(40, 50]     2083\n",
       "(10, 20]     1213\n",
       "(50, 60]      198\n",
       "(0, 10]         0\n",
       "(60, 70]        0\n",
       "(70, 80]        0\n",
       "(80, 90]        0\n",
       "(90, 100]       0\n",
       "Name: new_group, dtype: int64"
      ]
     },
     "execution_count": 71,
     "metadata": {},
     "output_type": "execute_result"
    }
   ],
   "source": [
    "df[\"new_group\"].value_counts()\n"
   ]
  },
  {
   "cell_type": "code",
   "execution_count": 72,
   "id": "cffcbebe",
   "metadata": {
    "scrolled": true
   },
   "outputs": [
    {
     "data": {
      "image/png": "[encoded data removed]",
      "text/plain": [
       "<Figure size 1080x504 with 1 Axes>"
      ]
     },
     "metadata": {},
     "output_type": "display_data"
    }
   ],
   "source": [
    "plt.figure(figsize=(15,7))\n",
    "#df[\"new_group\"].value_counts().plot.pie()\n",
    "exp = (0.05, 0.05, 0.15, 0.05, 0.6,0.3,0.3, 0.05, 0.05, 0.05)\n",
    "df[\"new_group\"].value_counts().plot.pie(title = \"User Distribution across Age Groups\", autopct=\"%.1f%%\",explode = exp)\n",
    "\n",
    "plt.show()"
   ]
  },
  {
   "cell_type": "markdown",
   "id": "117f1b02",
   "metadata": {},
   "source": [
    "-\tOver 80% of customers belong to age group 20-40 years with over 52% belonging to 20-30 age group. This number increases to 87% for 18-40 year group"
   ]
  },
  {
   "cell_type": "code",
   "execution_count": 73,
   "id": "66b81c13",
   "metadata": {
    "scrolled": false
   },
   "outputs": [
    {
     "data": {
      "text/plain": [
       "<AxesSubplot:xlabel='age', ylabel='Density'>"
      ]
     },
     "execution_count": 73,
     "metadata": {},
     "output_type": "execute_result"
    },
    {
     "data": {
      "image/png": "[encoded data removed]",
      "text/plain": [
       "<Figure size 432x288 with 1 Axes>"
      ]
     },
     "metadata": {
      "needs_background": "light"
     },
     "output_type": "display_data"
    }
   ],
   "source": [
    "sns.distplot(filt_states['age'])"
   ]
  },
  {
   "cell_type": "markdown",
   "id": "a2dc4b76",
   "metadata": {},
   "source": [
    "-\tThe age data despite having been corrected for outliers, is seen to be right skewed"
   ]
  },
  {
   "cell_type": "markdown",
   "id": "8178f4ff",
   "metadata": {},
   "source": [
    "<a name = Section22></a>\n",
    "### **Distribution of Phone Brands(Consider only the 10 Most used Phone Brands) for each Age Segment, State, and Gender**"
   ]
  },
  {
   "cell_type": "code",
   "execution_count": 74,
   "id": "a47b09b9",
   "metadata": {
    "scrolled": false
   },
   "outputs": [
    {
     "data": {
      "text/plain": [
       "<Figure size 2160x720 with 0 Axes>"
      ]
     },
     "metadata": {},
     "output_type": "display_data"
    },
    {
     "data": {
      "image/png": "[encoded data removed]",
      "text/plain": [
       "<Figure size 442.375x360 with 1 Axes>"
      ]
     },
     "metadata": {
      "needs_background": "light"
     },
     "output_type": "display_data"
    },
    {
     "data": {
      "image/png": "[encoded data removed]",
      "text/plain": [
       "<Figure size 442.375x360 with 1 Axes>"
      ]
     },
     "metadata": {
      "needs_background": "light"
     },
     "output_type": "display_data"
    },
    {
     "data": {
      "image/png": "[encoded data removed]",
      "text/plain": [
       "<Figure size 442.375x360 with 1 Axes>"
      ]
     },
     "metadata": {
      "needs_background": "light"
     },
     "output_type": "display_data"
    }
   ],
   "source": [
    "\n",
    "PhBrds = df['phone_brand'].value_counts().nlargest(10).index[:]\n",
    "fig = plt.figure(figsize =(30,10))\n",
    "chk = df[df['phone_brand'].isin(PhBrds)]\n",
    "sns.catplot(data=chk,kind= 'count',x='new_group',hue='phone_brand',order = chk['new_group'][0:4].value_counts().index)\n",
    "plt.xticks(rotation=45)\n",
    "plt.title(\"Distribution Phone Brands(10 Most used) for each Age Segment\")\n",
    "sns.catplot(data=chk,kind= 'count',x='state',hue='phone_brand',order = chk['state'].value_counts().index)\n",
    "plt.xticks(rotation=45)\n",
    "plt.title(\"Distribution Phone Brands(10 Most used) for each State\")\n",
    "ax = sns.catplot(data=chk,kind= 'count',x='gender',hue='phone_brand',order = chk['gender'].value_counts().index)\n",
    "plt.title(\"Genderwise Distribution Phone Brands(10 Most used)\")\n",
    "plt.show()"
   ]
  },
  {
   "cell_type": "markdown",
   "id": "56e27400",
   "metadata": {},
   "source": [
    "-\tCustomers showed distinct preference for Xiaomi followed by Samsung across age groups. The customer preferences did not change across the groups\n",
    "-\tThe phone_brand preferences across the states remain the same\n",
    "-\tThere was no change noticed in the phone brand preference across the genders. Xiaomi followed by Samsung and the other eight considered"
   ]
  },
  {
   "cell_type": "markdown",
   "id": "d76ac0bf",
   "metadata": {},
   "source": [
    " <a name = Section23></a>\n",
    " ### **Distribution of Gender for each State, Age Segment and Phone Brand(Consider only the 10 Most used Phone Brands)**"
   ]
  },
  {
   "cell_type": "code",
   "execution_count": 75,
   "id": "e8d6221d",
   "metadata": {},
   "outputs": [
    {
     "data": {
      "text/plain": [
       "<Figure size 1080x504 with 0 Axes>"
      ]
     },
     "metadata": {},
     "output_type": "display_data"
    },
    {
     "data": {
      "image/png": "[encoded data removed]",
      "text/plain": [
       "<Figure size 404.625x360 with 1 Axes>"
      ]
     },
     "metadata": {
      "needs_background": "light"
     },
     "output_type": "display_data"
    },
    {
     "data": {
      "image/png": "[encoded data removed]",
      "text/plain": [
       "<Figure size 404.625x360 with 1 Axes>"
      ]
     },
     "metadata": {
      "needs_background": "light"
     },
     "output_type": "display_data"
    },
    {
     "data": {
      "image/png": "[encoded data removed]",
      "text/plain": [
       "<Figure size 404.625x360 with 1 Axes>"
      ]
     },
     "metadata": {
      "needs_background": "light"
     },
     "output_type": "display_data"
    }
   ],
   "source": [
    "fig = plt.figure(figsize =(15,7))\n",
    "chk = df[df['phone_brand'].isin(PhBrds)]\n",
    "sns.catplot(data=chk,kind='count',x='new_group',hue='gender', order = chk['new_group'].value_counts().index)\n",
    "plt.xticks(rotation=45)\n",
    "plt.title(\"Genderwise Distribution among each age segment\")\n",
    "sns.catplot(data=chk,kind='count',x='state',hue='gender', order = chk['state'].value_counts().index)\n",
    "plt.xticks(rotation=45)\n",
    "plt.title(\"Genderwise Distribution among each state\")\n",
    "sns.catplot(data=chk,kind='count',x='phone_brand',hue='gender',order = chk['phone_brand'].value_counts().index)\n",
    "plt.xticks(rotation=45)\n",
    "plt.title(\"Genderwise Distribution among each phone brand(top 10)\")\n",
    "plt.show() "
   ]
  },
  {
   "cell_type": "markdown",
   "id": "f6e81e97",
   "metadata": {},
   "source": [
    "-\tAcross the age segments the gender gap remains but reduces imperceptibly as age increases\n",
    "-\tThe gender gap continues to be seen and male subscribers distinctly outnumber the female subscribers\n",
    "-\tPhone_brand preferences remain same irrespective of the gender. So Gender has no impact on phone_brand preferences"
   ]
  },
  {
   "cell_type": "markdown",
   "id": "260f2baa",
   "metadata": {},
   "source": [
    "<a name = Section24></a>\n",
    "### **Distribution of Age Segments for each State, Gender and Phone Brand(Consider only the 10 Most used Phone Brands)**"
   ]
  },
  {
   "cell_type": "code",
   "execution_count": 76,
   "id": "160836e3",
   "metadata": {},
   "outputs": [
    {
     "data": {
      "text/plain": [
       "<Figure size 2880x504 with 0 Axes>"
      ]
     },
     "metadata": {},
     "output_type": "display_data"
    },
    {
     "data": {
      "text/plain": [
       "<Figure size 2880x504 with 0 Axes>"
      ]
     },
     "metadata": {},
     "output_type": "display_data"
    },
    {
     "data": {
      "image/png": "[encoded data removed]",
      "text/plain": [
       "<Figure size 441.5x360 with 1 Axes>"
      ]
     },
     "metadata": {
      "needs_background": "light"
     },
     "output_type": "display_data"
    },
    {
     "data": {
      "image/png": "[encoded data removed]",
      "text/plain": [
       "<Figure size 441.5x360 with 1 Axes>"
      ]
     },
     "metadata": {
      "needs_background": "light"
     },
     "output_type": "display_data"
    },
    {
     "data": {
      "image/png": "[encoded data removed]",
      "text/plain": [
       "<Figure size 441.5x360 with 1 Axes>"
      ]
     },
     "metadata": {
      "needs_background": "light"
     },
     "output_type": "display_data"
    }
   ],
   "source": [
    "fig = plt.figure(figsize =(40,7))\n",
    "PhBrds = df['phone_brand'].value_counts().nlargest(10).index[:]\n",
    "fig = plt.figure(figsize =(40,7))\n",
    "chk = df[df['phone_brand'].isin(PhBrds)]\n",
    "sns.catplot(data=chk,kind='count',x='gender',hue='new_group',order = chk['gender'].value_counts().index)\n",
    "plt.title(\"Age Segment wise Distribution among each Gender\")\n",
    "sns.catplot(data=chk,kind='count',x='state',hue='new_group',order = chk['state'].value_counts().index)\n",
    "plt.xticks(rotation=45)\n",
    "plt.title(\"Age Segment wise Distribution among each State\")\n",
    "sns.catplot(data=chk,kind='count',x='phone_brand',hue='new_group',order = chk['phone_brand'].value_counts().index)\n",
    "plt.xticks(rotation=45)\n",
    "plt.title(\"Age Segment wise Distribution among each Phone Brand (top 10)\")\n",
    "plt.show() "
   ]
  },
  {
   "cell_type": "markdown",
   "id": "a3f2c3b9",
   "metadata": {},
   "source": [
    "-\tAge segment wise distribution when viewed from gender perspective indicates maximum number of users in range 20-30 years followed by 30-40 age group\n",
    "-\tNo significant change in distribution observed across the states\n",
    "-   The top ten brand preferences remain same for the differing age segments across the sample set"
   ]
  },
  {
   "cell_type": "markdown",
   "id": "ec5aba9d",
   "metadata": {},
   "source": [
    "<a name = Section25></a>\n",
    "### **Hourly distribution of Phone Calls**"
   ]
  },
  {
   "cell_type": "code",
   "execution_count": 77,
   "id": "bb5b9a07",
   "metadata": {},
   "outputs": [
    {
     "name": "stdout",
     "output_type": "stream",
     "text": [
      "<class 'pandas.core.frame.DataFrame'>\n",
      "Int64Index: 422923 entries, 1 to 3252921\n",
      "Data columns (total 10 columns):\n",
      " #   Column       Non-Null Count   Dtype         \n",
      "---  ------       --------------   -----         \n",
      " 0   event_id     422923 non-null  int64         \n",
      " 1   device_id    422923 non-null  int64         \n",
      " 2   timestamp    422923 non-null  datetime64[ns]\n",
      " 3   longitude    422923 non-null  float64       \n",
      " 4   latitude     422923 non-null  float64       \n",
      " 5   city         422923 non-null  object        \n",
      " 6   state        422923 non-null  object        \n",
      " 7   Hour         422923 non-null  int64         \n",
      " 8   Month        422923 non-null  object        \n",
      " 9   Day of Week  362826 non-null  object        \n",
      "dtypes: datetime64[ns](1), float64(2), int64(3), object(4)\n",
      "memory usage: 35.5+ MB\n"
     ]
    }
   ],
   "source": [
    "import datetime as dt\n",
    "\n",
    "list1 = ['WestBengal', 'Karnataka', 'Gujarat', 'Bihar', 'Punjab', 'Kerala']\n",
    "#PhHrdist = PhHrdist[PhHrdist['state'].isin(list1)]\n",
    "PhHrdist = events[events['state'].isin(list1)]\n",
    "#Extracting Hour data from timestamp\n",
    "PhHrdist['Hour'] = PhHrdist['timestamp'].dt.hour\n",
    "\n",
    "#Extracting Month data from timestamp and mapping it to list monthmap\n",
    "monthmap={1:\"Jan\", 2:\"Feb\", 3:\"Mar\", 4:\"Apr\", 5:\"May\", 6:\"Jun\", 7:\"Jul\", 8:\"Aug\", 9:\"Sep\",10:\"Oct\", 11:\"Nov\", 12:\"Dec\"}\n",
    "PhHrdist['Month'] = PhHrdist['timestamp'].dt.month\n",
    "PhHrdist[\"Month\"]=PhHrdist[\"Month\"].map(monthmap)\n",
    "\n",
    "#Extracting Day of Week data from timestamp and mapping it to list weekmap\n",
    "weekmap={0:\"Mon\", 1:\"Tue\", 2:\"Wed\", 3:\"Thur\", 4:\"Fri\", 5:\"Sat\", 6:\"Sun\"}\n",
    "PhHrdist[\"Day of Week\"] = (PhHrdist['timestamp'].dt.dayofweek) + 1\n",
    "PhHrdist[\"Day of Week\"]=PhHrdist[\"Day of Week\"].map(weekmap)\n",
    "\n",
    "PhHrdist.info()"
   ]
  },
  {
   "cell_type": "code",
   "execution_count": 78,
   "id": "6dccd65e",
   "metadata": {
    "scrolled": false
   },
   "outputs": [
    {
     "data": {
      "text/plain": [
       "<Figure size 1440x504 with 0 Axes>"
      ]
     },
     "metadata": {},
     "output_type": "display_data"
    },
    {
     "data": {
      "image/png": "[encoded data removed]",
      "text/plain": [
       "<Figure size 360x360 with 1 Axes>"
      ]
     },
     "metadata": {
      "needs_background": "light"
     },
     "output_type": "display_data"
    }
   ],
   "source": [
    " #Hourly distribution of calls\n",
    "fig = plt.figure(figsize =(20,7))\n",
    "\n",
    "sns.catplot(data=PhHrdist,kind= 'count',x='Hour')\n",
    "\n",
    "plt.xlabel('Hours') \n",
    "plt.ylabel('Frequency') \n",
    "plt.title('Frequency of calls per hour')\n",
    "plt.show()"
   ]
  },
  {
   "cell_type": "code",
   "execution_count": 79,
   "id": "d46bb4cc",
   "metadata": {
    "scrolled": true
   },
   "outputs": [
    {
     "data": {
      "image/png": "[encoded data removed]",
      "text/plain": [
       "<Figure size 360x360 with 1 Axes>"
      ]
     },
     "metadata": {
      "needs_background": "light"
     },
     "output_type": "display_data"
    }
   ],
   "source": [
    "#Frequency of calls per month\n",
    "# fig = plt.figure(figsize =(15,7))\n",
    "\n",
    "sns.catplot(data=PhHrdist,kind= 'count',x='Month')\n",
    "plt.xlabel('Months') \n",
    "plt.ylabel('Frequency') \n",
    "plt.title('Frequency of calls per month')\n",
    "plt.show()"
   ]
  },
  {
   "cell_type": "markdown",
   "id": "3f7c5823",
   "metadata": {},
   "source": [
    "-\tThe frequency of calls were maximum between 0800 to 2200 hrs peaking at 1000 and 2100 hrs. Significant number of calls have been observed around midnight 0000 hrs\n",
    "-\tThe week wise summary appears to be erroneous as no calls seem to have been made on Monday with almost 60,000 plus calls having been made every day of the week except on Monday\n",
    "-\tThe month wise summary indicates that all the calls in the data set were made in the months of April and May with most calls having been made in May"
   ]
  },
  {
   "cell_type": "markdown",
   "id": "3d80785e",
   "metadata": {},
   "source": [
    "<a name = Section26></a>\n",
    "# **Summarization**\n",
    "\n",
    "-\tThe telecom company must focus on expanding its presence beyond the cities of Bengaluru and Kolkata and focus on Tier II and Tier III cities across the target states\n",
    "\n",
    "-\tThe highest number of subscribers present in Kolkata and Bengaluru cities could also be an indication of the poor tower coverage in other cities of the target states. This needs to be further evaluated\n",
    "\n",
    "-\tThe gender disparity needs to be addressed through suitable product design accompanied by a focussed marketing  effort targeting females\n",
    "\n",
    "-\tAs a  part of co-branding effort, Xiaomi and Samsung may be approached as these are preferred brands across genders and age groups as well as across states\n",
    "\n",
    "-\tThe targeting of age groups above 40 years must be a focussed area of expansion as the customer base in these regions is relatively low\n",
    "\n",
    "-\tThe low utilisation of available capacity between 0100 hrs to 0800 hrs may  be increased using appropriated marketing tools such as offers of free internet during this period\n",
    "\n"
   ]
  },
  {
   "cell_type": "markdown",
   "id": "fac2243e",
   "metadata": {},
   "source": [
    "<a name = Section27></a>\n",
    "## **Conclusion**\n",
    "\n",
    "- This project was undertaken by the Capstone_1014 team to provide actionable insights for INSAID Telecom as per the data provided\n",
    "\n",
    "- The same was evaluated using EDA and statistical approach and some proposed solutions have been suggested\n",
    "\n",
    "- It is also highlighted that the data collection practices of INSAID telecom needs to be improved, to avoid data imbalance and to gain insights for better analysis and identifying business improvement opportunities\n"
   ]
  },
  {
   "cell_type": "markdown",
   "id": "6c585f84",
   "metadata": {},
   "source": [
    "<a name = Section28></a>\n",
    "## **Actionable Insights**"
   ]
  },
  {
   "cell_type": "markdown",
   "id": "0ee2d802",
   "metadata": {},
   "source": [
    "\n",
    "\n",
    "- \tThe telecom company must focus on expanding its presence beyond the cities of Bengaluru and Kolkata and focus on Tier II and Tier III cities across the target states\n",
    "\n",
    "- \tThe highest number of subscribers present in Kolkata and Bengaluru cities could also be an indication of the poor tower coverage in other cities of the target states. This needs to be further evaluated\n",
    "\n",
    "\n",
    "-\tThe gender disparity needs to be addressed through suitable product design accompanied by a focussed marketing  effort targeting females\n",
    "\n",
    "-   As a  part of co-branding effort, Xiaomi and Samsung may be approached as these are preferred brands across genders and age groups as well as across states\n",
    "\n",
    "-\tThe targeting of age groups above 40 years must be a focussed area of expansion as the customer base in these regions is relatively low\n",
    "\n",
    "-\tThe low utilisation of available capacity between 0100 hrs to 0800 hrs may  be increased using appropriated marketing tools such as offers of free internet during this period\n",
    "\n"
   ]
  },
  {
   "cell_type": "markdown",
   "id": "0e063332",
   "metadata": {},
   "source": [
    "Thank You For Your Time "
   ]
  }
 ],
 "metadata": {
  "kernelspec": {
   "display_name": "Python 3 (ipykernel)",
   "language": "python",
   "name": "python3"
  },
  "language_info": {
   "codemirror_mode": {
    "name": "ipython",
    "version": 3
   },
   "file_extension": ".py",
   "mimetype": "text/x-python",
   "name": "python",
   "nbconvert_exporter": "python",
   "pygments_lexer": "ipython3",
   "version": "3.9.12"
  }
 },
 "nbformat": 4,
 "nbformat_minor": 5
}
